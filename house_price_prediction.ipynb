{
  "nbformat": 4,
  "nbformat_minor": 0,
  "metadata": {
    "colab": {
      "name": "house_price_prediction.ipynb",
      "provenance": [],
      "collapsed_sections": [],
      "mount_file_id": "1eVMqSEu5-0scUaHp8S0DEEvkd0vNT4LF",
      "authorship_tag": "ABX9TyOBay1nz8OTmAgYcmgC0tcF",
      "include_colab_link": true
    },
    "kernelspec": {
      "name": "python3",
      "display_name": "Python 3"
    }
  },
  "cells": [
    {
      "cell_type": "markdown",
      "metadata": {
        "id": "view-in-github",
        "colab_type": "text"
      },
      "source": [
        "<a href=\"https://colab.research.google.com/github/Abhishek54765/assistant/blob/master/house_price_prediction.ipynb\" target=\"_parent\"><img src=\"https://colab.research.google.com/assets/colab-badge.svg\" alt=\"Open In Colab\"/></a>"
      ]
    },
    {
      "cell_type": "code",
      "metadata": {
        "id": "SdQdGhCWMx1a"
      },
      "source": [
        "import numpy as np\r\n",
        "import pandas as pd\r\n",
        "import matplotlib.pyplot as plt\r\n"
      ],
      "execution_count": null,
      "outputs": []
    },
    {
      "cell_type": "code",
      "metadata": {
        "id": "fma33_GSNHmu"
      },
      "source": [
        "data = pd.read_csv('/content/drive/MyDrive/MagicBricks.csv')"
      ],
      "execution_count": null,
      "outputs": []
    },
    {
      "cell_type": "code",
      "metadata": {
        "colab": {
          "base_uri": "https://localhost:8080/",
          "height": 419
        },
        "id": "zB4wtlNaNVCP",
        "outputId": "041b0079-eeed-4d6a-9445-035f58a4ce10"
      },
      "source": [
        "data"
      ],
      "execution_count": null,
      "outputs": [
        {
          "output_type": "execute_result",
          "data": {
            "text/html": [
              "<div>\n",
              "<style scoped>\n",
              "    .dataframe tbody tr th:only-of-type {\n",
              "        vertical-align: middle;\n",
              "    }\n",
              "\n",
              "    .dataframe tbody tr th {\n",
              "        vertical-align: top;\n",
              "    }\n",
              "\n",
              "    .dataframe thead th {\n",
              "        text-align: right;\n",
              "    }\n",
              "</style>\n",
              "<table border=\"1\" class=\"dataframe\">\n",
              "  <thead>\n",
              "    <tr style=\"text-align: right;\">\n",
              "      <th></th>\n",
              "      <th>Area</th>\n",
              "      <th>BHK</th>\n",
              "      <th>Bathroom</th>\n",
              "      <th>Furnishing</th>\n",
              "      <th>Locality</th>\n",
              "      <th>Parking</th>\n",
              "      <th>Price</th>\n",
              "      <th>Status</th>\n",
              "      <th>Transaction</th>\n",
              "      <th>Type</th>\n",
              "      <th>Per_Sqft</th>\n",
              "    </tr>\n",
              "  </thead>\n",
              "  <tbody>\n",
              "    <tr>\n",
              "      <th>0</th>\n",
              "      <td>800.0</td>\n",
              "      <td>3</td>\n",
              "      <td>2.0</td>\n",
              "      <td>Semi-Furnished</td>\n",
              "      <td>Rohini Sector 25</td>\n",
              "      <td>1.0</td>\n",
              "      <td>6500000</td>\n",
              "      <td>Ready_to_move</td>\n",
              "      <td>New_Property</td>\n",
              "      <td>Builder_Floor</td>\n",
              "      <td>NaN</td>\n",
              "    </tr>\n",
              "    <tr>\n",
              "      <th>1</th>\n",
              "      <td>750.0</td>\n",
              "      <td>2</td>\n",
              "      <td>2.0</td>\n",
              "      <td>Semi-Furnished</td>\n",
              "      <td>J R Designers Floors, Rohini Sector 24</td>\n",
              "      <td>1.0</td>\n",
              "      <td>5000000</td>\n",
              "      <td>Ready_to_move</td>\n",
              "      <td>New_Property</td>\n",
              "      <td>Apartment</td>\n",
              "      <td>6667.0</td>\n",
              "    </tr>\n",
              "    <tr>\n",
              "      <th>2</th>\n",
              "      <td>950.0</td>\n",
              "      <td>2</td>\n",
              "      <td>2.0</td>\n",
              "      <td>Furnished</td>\n",
              "      <td>Citizen Apartment, Rohini Sector 13</td>\n",
              "      <td>1.0</td>\n",
              "      <td>15500000</td>\n",
              "      <td>Ready_to_move</td>\n",
              "      <td>Resale</td>\n",
              "      <td>Apartment</td>\n",
              "      <td>6667.0</td>\n",
              "    </tr>\n",
              "    <tr>\n",
              "      <th>3</th>\n",
              "      <td>600.0</td>\n",
              "      <td>2</td>\n",
              "      <td>2.0</td>\n",
              "      <td>Semi-Furnished</td>\n",
              "      <td>Rohini Sector 24</td>\n",
              "      <td>1.0</td>\n",
              "      <td>4200000</td>\n",
              "      <td>Ready_to_move</td>\n",
              "      <td>Resale</td>\n",
              "      <td>Builder_Floor</td>\n",
              "      <td>6667.0</td>\n",
              "    </tr>\n",
              "    <tr>\n",
              "      <th>4</th>\n",
              "      <td>650.0</td>\n",
              "      <td>2</td>\n",
              "      <td>2.0</td>\n",
              "      <td>Semi-Furnished</td>\n",
              "      <td>Rohini Sector 24 carpet area 650 sqft status R...</td>\n",
              "      <td>1.0</td>\n",
              "      <td>6200000</td>\n",
              "      <td>Ready_to_move</td>\n",
              "      <td>New_Property</td>\n",
              "      <td>Builder_Floor</td>\n",
              "      <td>6667.0</td>\n",
              "    </tr>\n",
              "    <tr>\n",
              "      <th>...</th>\n",
              "      <td>...</td>\n",
              "      <td>...</td>\n",
              "      <td>...</td>\n",
              "      <td>...</td>\n",
              "      <td>...</td>\n",
              "      <td>...</td>\n",
              "      <td>...</td>\n",
              "      <td>...</td>\n",
              "      <td>...</td>\n",
              "      <td>...</td>\n",
              "      <td>...</td>\n",
              "    </tr>\n",
              "    <tr>\n",
              "      <th>1254</th>\n",
              "      <td>4118.0</td>\n",
              "      <td>4</td>\n",
              "      <td>5.0</td>\n",
              "      <td>Unfurnished</td>\n",
              "      <td>Chittaranjan Park</td>\n",
              "      <td>3.0</td>\n",
              "      <td>55000000</td>\n",
              "      <td>Ready_to_move</td>\n",
              "      <td>New_Property</td>\n",
              "      <td>Builder_Floor</td>\n",
              "      <td>12916.0</td>\n",
              "    </tr>\n",
              "    <tr>\n",
              "      <th>1255</th>\n",
              "      <td>1050.0</td>\n",
              "      <td>3</td>\n",
              "      <td>2.0</td>\n",
              "      <td>Semi-Furnished</td>\n",
              "      <td>Chittaranjan Park</td>\n",
              "      <td>3.0</td>\n",
              "      <td>12500000</td>\n",
              "      <td>Ready_to_move</td>\n",
              "      <td>Resale</td>\n",
              "      <td>Builder_Floor</td>\n",
              "      <td>12916.0</td>\n",
              "    </tr>\n",
              "    <tr>\n",
              "      <th>1256</th>\n",
              "      <td>875.0</td>\n",
              "      <td>3</td>\n",
              "      <td>3.0</td>\n",
              "      <td>Semi-Furnished</td>\n",
              "      <td>Chittaranjan Park</td>\n",
              "      <td>3.0</td>\n",
              "      <td>17500000</td>\n",
              "      <td>Ready_to_move</td>\n",
              "      <td>New_Property</td>\n",
              "      <td>Builder_Floor</td>\n",
              "      <td>12916.0</td>\n",
              "    </tr>\n",
              "    <tr>\n",
              "      <th>1257</th>\n",
              "      <td>990.0</td>\n",
              "      <td>2</td>\n",
              "      <td>2.0</td>\n",
              "      <td>Unfurnished</td>\n",
              "      <td>Chittaranjan Park Block A</td>\n",
              "      <td>1.0</td>\n",
              "      <td>11500000</td>\n",
              "      <td>Ready_to_move</td>\n",
              "      <td>Resale</td>\n",
              "      <td>Builder_Floor</td>\n",
              "      <td>12916.0</td>\n",
              "    </tr>\n",
              "    <tr>\n",
              "      <th>1258</th>\n",
              "      <td>11050.0</td>\n",
              "      <td>3</td>\n",
              "      <td>3.0</td>\n",
              "      <td>Unfurnished</td>\n",
              "      <td>Chittaranjan Park</td>\n",
              "      <td>1.0</td>\n",
              "      <td>18500000</td>\n",
              "      <td>Ready_to_move</td>\n",
              "      <td>New_Property</td>\n",
              "      <td>Builder_Floor</td>\n",
              "      <td>12916.0</td>\n",
              "    </tr>\n",
              "  </tbody>\n",
              "</table>\n",
              "<p>1259 rows × 11 columns</p>\n",
              "</div>"
            ],
            "text/plain": [
              "         Area  BHK  Bathroom  ...   Transaction           Type  Per_Sqft\n",
              "0       800.0    3       2.0  ...  New_Property  Builder_Floor       NaN\n",
              "1       750.0    2       2.0  ...  New_Property      Apartment    6667.0\n",
              "2       950.0    2       2.0  ...        Resale      Apartment    6667.0\n",
              "3       600.0    2       2.0  ...        Resale  Builder_Floor    6667.0\n",
              "4       650.0    2       2.0  ...  New_Property  Builder_Floor    6667.0\n",
              "...       ...  ...       ...  ...           ...            ...       ...\n",
              "1254   4118.0    4       5.0  ...  New_Property  Builder_Floor   12916.0\n",
              "1255   1050.0    3       2.0  ...        Resale  Builder_Floor   12916.0\n",
              "1256    875.0    3       3.0  ...  New_Property  Builder_Floor   12916.0\n",
              "1257    990.0    2       2.0  ...        Resale  Builder_Floor   12916.0\n",
              "1258  11050.0    3       3.0  ...  New_Property  Builder_Floor   12916.0\n",
              "\n",
              "[1259 rows x 11 columns]"
            ]
          },
          "metadata": {
            "tags": []
          },
          "execution_count": 412
        }
      ]
    },
    {
      "cell_type": "code",
      "metadata": {
        "colab": {
          "base_uri": "https://localhost:8080/"
        },
        "id": "2mQeXh-FXa6w",
        "outputId": "ea271c2e-164c-4d0c-949e-a7c930fff800"
      },
      "source": [
        "data['Bathroom'].value_counts()"
      ],
      "execution_count": null,
      "outputs": [
        {
          "output_type": "execute_result",
          "data": {
            "text/plain": [
              "2.0    551\n",
              "3.0    355\n",
              "1.0    146\n",
              "4.0    138\n",
              "5.0     57\n",
              "6.0      7\n",
              "7.0      3\n",
              "Name: Bathroom, dtype: int64"
            ]
          },
          "metadata": {
            "tags": []
          },
          "execution_count": 413
        }
      ]
    },
    {
      "cell_type": "code",
      "metadata": {
        "colab": {
          "base_uri": "https://localhost:8080/"
        },
        "id": "L5YgmRIpYMLx",
        "outputId": "57e6814c-6961-4f08-b96a-0926ab973e08"
      },
      "source": [
        "data.loc[:,['Bathroom','Price']].max()"
      ],
      "execution_count": null,
      "outputs": [
        {
          "output_type": "execute_result",
          "data": {
            "text/plain": [
              "Bathroom            7.0\n",
              "Price       240000000.0\n",
              "dtype: float64"
            ]
          },
          "metadata": {
            "tags": []
          },
          "execution_count": 414
        }
      ]
    },
    {
      "cell_type": "code",
      "metadata": {
        "colab": {
          "base_uri": "https://localhost:8080/"
        },
        "id": "4IJKEolAYzLz",
        "outputId": "bb5f5a1e-addc-4bed-e5d1-cef4488ff1e4"
      },
      "source": [
        "data.loc[:,['Bathroom','Price']].min()"
      ],
      "execution_count": null,
      "outputs": [
        {
          "output_type": "execute_result",
          "data": {
            "text/plain": [
              "Bathroom          1.0\n",
              "Price       1000000.0\n",
              "dtype: float64"
            ]
          },
          "metadata": {
            "tags": []
          },
          "execution_count": 415
        }
      ]
    },
    {
      "cell_type": "code",
      "metadata": {
        "colab": {
          "base_uri": "https://localhost:8080/",
          "height": 297
        },
        "id": "r8egKyxBbOmc",
        "outputId": "862456b6-df88-47c8-ded4-c13a61a3d57d"
      },
      "source": [
        "data.describe()"
      ],
      "execution_count": null,
      "outputs": [
        {
          "output_type": "execute_result",
          "data": {
            "text/html": [
              "<div>\n",
              "<style scoped>\n",
              "    .dataframe tbody tr th:only-of-type {\n",
              "        vertical-align: middle;\n",
              "    }\n",
              "\n",
              "    .dataframe tbody tr th {\n",
              "        vertical-align: top;\n",
              "    }\n",
              "\n",
              "    .dataframe thead th {\n",
              "        text-align: right;\n",
              "    }\n",
              "</style>\n",
              "<table border=\"1\" class=\"dataframe\">\n",
              "  <thead>\n",
              "    <tr style=\"text-align: right;\">\n",
              "      <th></th>\n",
              "      <th>Area</th>\n",
              "      <th>BHK</th>\n",
              "      <th>Bathroom</th>\n",
              "      <th>Parking</th>\n",
              "      <th>Price</th>\n",
              "      <th>Per_Sqft</th>\n",
              "    </tr>\n",
              "  </thead>\n",
              "  <tbody>\n",
              "    <tr>\n",
              "      <th>count</th>\n",
              "      <td>1259.000000</td>\n",
              "      <td>1259.000000</td>\n",
              "      <td>1257.000000</td>\n",
              "      <td>1226.000000</td>\n",
              "      <td>1.259000e+03</td>\n",
              "      <td>1018.000000</td>\n",
              "    </tr>\n",
              "    <tr>\n",
              "      <th>mean</th>\n",
              "      <td>1466.452724</td>\n",
              "      <td>2.796664</td>\n",
              "      <td>2.556086</td>\n",
              "      <td>1.935563</td>\n",
              "      <td>2.130670e+07</td>\n",
              "      <td>15690.136542</td>\n",
              "    </tr>\n",
              "    <tr>\n",
              "      <th>std</th>\n",
              "      <td>1568.055040</td>\n",
              "      <td>0.954425</td>\n",
              "      <td>1.042220</td>\n",
              "      <td>6.279212</td>\n",
              "      <td>2.560115e+07</td>\n",
              "      <td>21134.738568</td>\n",
              "    </tr>\n",
              "    <tr>\n",
              "      <th>min</th>\n",
              "      <td>28.000000</td>\n",
              "      <td>1.000000</td>\n",
              "      <td>1.000000</td>\n",
              "      <td>1.000000</td>\n",
              "      <td>1.000000e+06</td>\n",
              "      <td>1259.000000</td>\n",
              "    </tr>\n",
              "    <tr>\n",
              "      <th>25%</th>\n",
              "      <td>800.000000</td>\n",
              "      <td>2.000000</td>\n",
              "      <td>2.000000</td>\n",
              "      <td>1.000000</td>\n",
              "      <td>5.700000e+06</td>\n",
              "      <td>6364.000000</td>\n",
              "    </tr>\n",
              "    <tr>\n",
              "      <th>50%</th>\n",
              "      <td>1200.000000</td>\n",
              "      <td>3.000000</td>\n",
              "      <td>2.000000</td>\n",
              "      <td>1.000000</td>\n",
              "      <td>1.420000e+07</td>\n",
              "      <td>11291.500000</td>\n",
              "    </tr>\n",
              "    <tr>\n",
              "      <th>75%</th>\n",
              "      <td>1700.000000</td>\n",
              "      <td>3.000000</td>\n",
              "      <td>3.000000</td>\n",
              "      <td>2.000000</td>\n",
              "      <td>2.550000e+07</td>\n",
              "      <td>18000.000000</td>\n",
              "    </tr>\n",
              "    <tr>\n",
              "      <th>max</th>\n",
              "      <td>24300.000000</td>\n",
              "      <td>10.000000</td>\n",
              "      <td>7.000000</td>\n",
              "      <td>114.000000</td>\n",
              "      <td>2.400000e+08</td>\n",
              "      <td>183333.000000</td>\n",
              "    </tr>\n",
              "  </tbody>\n",
              "</table>\n",
              "</div>"
            ],
            "text/plain": [
              "               Area          BHK  ...         Price       Per_Sqft\n",
              "count   1259.000000  1259.000000  ...  1.259000e+03    1018.000000\n",
              "mean    1466.452724     2.796664  ...  2.130670e+07   15690.136542\n",
              "std     1568.055040     0.954425  ...  2.560115e+07   21134.738568\n",
              "min       28.000000     1.000000  ...  1.000000e+06    1259.000000\n",
              "25%      800.000000     2.000000  ...  5.700000e+06    6364.000000\n",
              "50%     1200.000000     3.000000  ...  1.420000e+07   11291.500000\n",
              "75%     1700.000000     3.000000  ...  2.550000e+07   18000.000000\n",
              "max    24300.000000    10.000000  ...  2.400000e+08  183333.000000\n",
              "\n",
              "[8 rows x 6 columns]"
            ]
          },
          "metadata": {
            "tags": []
          },
          "execution_count": 416
        }
      ]
    },
    {
      "cell_type": "code",
      "metadata": {
        "id": "M_P9CGVnP6X3"
      },
      "source": [
        "data= data.dropna()\r\n",
        "data.isnull().value_counts()\r\n",
        "data.index = np.arange(0,1005)"
      ],
      "execution_count": null,
      "outputs": []
    },
    {
      "cell_type": "code",
      "metadata": {
        "id": "08fU6p8Jilzq"
      },
      "source": [
        "from sklearn.model_selection import StratifiedShuffleSplit\r\n",
        "split = StratifiedShuffleSplit( n_splits=1 , test_size=0.2 , random_state=42)  #it is one way of dividing the test and train set by using the scikit learn.\r\n",
        "for train_index, test_index in split.split(data, data[\"Bathroom\"]): #it returns the indexes.\r\n",
        "  strat_train_set = data.loc[train_index]\r\n",
        "  strat_test_set = data.loc[test_index]"
      ],
      "execution_count": null,
      "outputs": []
    },
    {
      "cell_type": "code",
      "metadata": {
        "colab": {
          "base_uri": "https://localhost:8080/",
          "height": 419
        },
        "id": "kK14qDUKi1TP",
        "outputId": "6dd2f3ee-66f3-4f57-f641-088d82cb8e9c"
      },
      "source": [
        "strat_train_set"
      ],
      "execution_count": null,
      "outputs": [
        {
          "output_type": "execute_result",
          "data": {
            "text/html": [
              "<div>\n",
              "<style scoped>\n",
              "    .dataframe tbody tr th:only-of-type {\n",
              "        vertical-align: middle;\n",
              "    }\n",
              "\n",
              "    .dataframe tbody tr th {\n",
              "        vertical-align: top;\n",
              "    }\n",
              "\n",
              "    .dataframe thead th {\n",
              "        text-align: right;\n",
              "    }\n",
              "</style>\n",
              "<table border=\"1\" class=\"dataframe\">\n",
              "  <thead>\n",
              "    <tr style=\"text-align: right;\">\n",
              "      <th></th>\n",
              "      <th>Area</th>\n",
              "      <th>BHK</th>\n",
              "      <th>Bathroom</th>\n",
              "      <th>Furnishing</th>\n",
              "      <th>Locality</th>\n",
              "      <th>Parking</th>\n",
              "      <th>Price</th>\n",
              "      <th>Status</th>\n",
              "      <th>Transaction</th>\n",
              "      <th>Type</th>\n",
              "      <th>Per_Sqft</th>\n",
              "    </tr>\n",
              "  </thead>\n",
              "  <tbody>\n",
              "    <tr>\n",
              "      <th>769</th>\n",
              "      <td>800.0</td>\n",
              "      <td>2</td>\n",
              "      <td>2.0</td>\n",
              "      <td>Unfurnished</td>\n",
              "      <td>Dilshad Colony, Dilshad Garden</td>\n",
              "      <td>1.0</td>\n",
              "      <td>6000000</td>\n",
              "      <td>Ready_to_move</td>\n",
              "      <td>Resale</td>\n",
              "      <td>Builder_Floor</td>\n",
              "      <td>7500.0</td>\n",
              "    </tr>\n",
              "    <tr>\n",
              "      <th>122</th>\n",
              "      <td>270.0</td>\n",
              "      <td>2</td>\n",
              "      <td>1.0</td>\n",
              "      <td>Semi-Furnished</td>\n",
              "      <td>Budh Vihar Phase 1</td>\n",
              "      <td>1.0</td>\n",
              "      <td>1400000</td>\n",
              "      <td>Ready_to_move</td>\n",
              "      <td>Resale</td>\n",
              "      <td>Apartment</td>\n",
              "      <td>5185.0</td>\n",
              "    </tr>\n",
              "    <tr>\n",
              "      <th>484</th>\n",
              "      <td>2100.0</td>\n",
              "      <td>3</td>\n",
              "      <td>4.0</td>\n",
              "      <td>Semi-Furnished</td>\n",
              "      <td>Saket</td>\n",
              "      <td>2.0</td>\n",
              "      <td>25000000</td>\n",
              "      <td>Ready_to_move</td>\n",
              "      <td>Resale</td>\n",
              "      <td>Builder_Floor</td>\n",
              "      <td>14705.0</td>\n",
              "    </tr>\n",
              "    <tr>\n",
              "      <th>882</th>\n",
              "      <td>650.0</td>\n",
              "      <td>2</td>\n",
              "      <td>2.0</td>\n",
              "      <td>Unfurnished</td>\n",
              "      <td>Panchsheel Vihar, Sheikh Sarai</td>\n",
              "      <td>1.0</td>\n",
              "      <td>3800000</td>\n",
              "      <td>Ready_to_move</td>\n",
              "      <td>Resale</td>\n",
              "      <td>Apartment</td>\n",
              "      <td>15882.0</td>\n",
              "    </tr>\n",
              "    <tr>\n",
              "      <th>212</th>\n",
              "      <td>1600.0</td>\n",
              "      <td>3</td>\n",
              "      <td>3.0</td>\n",
              "      <td>Semi-Furnished</td>\n",
              "      <td>New Friends Colony</td>\n",
              "      <td>2.0</td>\n",
              "      <td>40000000</td>\n",
              "      <td>Ready_to_move</td>\n",
              "      <td>Resale</td>\n",
              "      <td>Apartment</td>\n",
              "      <td>15459.0</td>\n",
              "    </tr>\n",
              "    <tr>\n",
              "      <th>...</th>\n",
              "      <td>...</td>\n",
              "      <td>...</td>\n",
              "      <td>...</td>\n",
              "      <td>...</td>\n",
              "      <td>...</td>\n",
              "      <td>...</td>\n",
              "      <td>...</td>\n",
              "      <td>...</td>\n",
              "      <td>...</td>\n",
              "      <td>...</td>\n",
              "      <td>...</td>\n",
              "    </tr>\n",
              "    <tr>\n",
              "      <th>118</th>\n",
              "      <td>900.0</td>\n",
              "      <td>3</td>\n",
              "      <td>2.0</td>\n",
              "      <td>Semi-Furnished</td>\n",
              "      <td>Budh Vihar</td>\n",
              "      <td>1.0</td>\n",
              "      <td>4000000</td>\n",
              "      <td>Ready_to_move</td>\n",
              "      <td>Resale</td>\n",
              "      <td>Builder_Floor</td>\n",
              "      <td>4444.0</td>\n",
              "    </tr>\n",
              "    <tr>\n",
              "      <th>291</th>\n",
              "      <td>504.0</td>\n",
              "      <td>2</td>\n",
              "      <td>1.0</td>\n",
              "      <td>Furnished</td>\n",
              "      <td>Yamuna Vihar, Shahdara</td>\n",
              "      <td>1.0</td>\n",
              "      <td>2700000</td>\n",
              "      <td>Ready_to_move</td>\n",
              "      <td>Resale</td>\n",
              "      <td>Builder_Floor</td>\n",
              "      <td>5357.0</td>\n",
              "    </tr>\n",
              "    <tr>\n",
              "      <th>141</th>\n",
              "      <td>1300.0</td>\n",
              "      <td>4</td>\n",
              "      <td>4.0</td>\n",
              "      <td>Semi-Furnished</td>\n",
              "      <td>Rohini Sector 22</td>\n",
              "      <td>1.0</td>\n",
              "      <td>15000000</td>\n",
              "      <td>Ready_to_move</td>\n",
              "      <td>New_Property</td>\n",
              "      <td>Builder_Floor</td>\n",
              "      <td>5255.0</td>\n",
              "    </tr>\n",
              "    <tr>\n",
              "      <th>573</th>\n",
              "      <td>3405.0</td>\n",
              "      <td>5</td>\n",
              "      <td>4.0</td>\n",
              "      <td>Semi-Furnished</td>\n",
              "      <td>Common Wealth Games Village, Commonwealth Game...</td>\n",
              "      <td>3.0</td>\n",
              "      <td>71500000</td>\n",
              "      <td>Ready_to_move</td>\n",
              "      <td>Resale</td>\n",
              "      <td>Apartment</td>\n",
              "      <td>20999.0</td>\n",
              "    </tr>\n",
              "    <tr>\n",
              "      <th>29</th>\n",
              "      <td>900.0</td>\n",
              "      <td>2</td>\n",
              "      <td>2.0</td>\n",
              "      <td>Semi-Furnished</td>\n",
              "      <td>Amar Colony, Lajpat Nagar</td>\n",
              "      <td>2.0</td>\n",
              "      <td>13000000</td>\n",
              "      <td>Ready_to_move</td>\n",
              "      <td>New_Property</td>\n",
              "      <td>Builder_Floor</td>\n",
              "      <td>14444.0</td>\n",
              "    </tr>\n",
              "  </tbody>\n",
              "</table>\n",
              "<p>804 rows × 11 columns</p>\n",
              "</div>"
            ],
            "text/plain": [
              "       Area  BHK  Bathroom  ...   Transaction           Type  Per_Sqft\n",
              "769   800.0    2       2.0  ...        Resale  Builder_Floor    7500.0\n",
              "122   270.0    2       1.0  ...        Resale      Apartment    5185.0\n",
              "484  2100.0    3       4.0  ...        Resale  Builder_Floor   14705.0\n",
              "882   650.0    2       2.0  ...        Resale      Apartment   15882.0\n",
              "212  1600.0    3       3.0  ...        Resale      Apartment   15459.0\n",
              "..      ...  ...       ...  ...           ...            ...       ...\n",
              "118   900.0    3       2.0  ...        Resale  Builder_Floor    4444.0\n",
              "291   504.0    2       1.0  ...        Resale  Builder_Floor    5357.0\n",
              "141  1300.0    4       4.0  ...  New_Property  Builder_Floor    5255.0\n",
              "573  3405.0    5       4.0  ...        Resale      Apartment   20999.0\n",
              "29    900.0    2       2.0  ...  New_Property  Builder_Floor   14444.0\n",
              "\n",
              "[804 rows x 11 columns]"
            ]
          },
          "metadata": {
            "tags": []
          },
          "execution_count": 419
        }
      ]
    },
    {
      "cell_type": "code",
      "metadata": {
        "id": "XFDz2auUi7wU"
      },
      "source": [
        "datacpy = strat_train_set"
      ],
      "execution_count": null,
      "outputs": []
    },
    {
      "cell_type": "code",
      "metadata": {
        "colab": {
          "base_uri": "https://localhost:8080/"
        },
        "id": "9QP7jLh8jtSD",
        "outputId": "4fe5d4f0-a3fd-45a7-ceff-dcdee9f66291"
      },
      "source": [
        "cor2 = data.corr()\r\n",
        "cor2['Price'].sort_values(ascending = False)"
      ],
      "execution_count": null,
      "outputs": [
        {
          "output_type": "execute_result",
          "data": {
            "text/plain": [
              "Price       1.000000\n",
              "Bathroom    0.732241\n",
              "BHK         0.599587\n",
              "Area        0.574410\n",
              "Per_Sqft    0.325240\n",
              "Parking     0.035894\n",
              "Name: Price, dtype: float64"
            ]
          },
          "metadata": {
            "tags": []
          },
          "execution_count": 421
        }
      ]
    },
    {
      "cell_type": "code",
      "metadata": {
        "colab": {
          "base_uri": "https://localhost:8080/",
          "height": 307
        },
        "id": "G958MKnxj56O",
        "outputId": "7c2fd564-e010-4cb6-a456-448ae20f8574"
      },
      "source": [
        "datacpy.plot(kind='scatter',x='Parking', y= 'Price')"
      ],
      "execution_count": null,
      "outputs": [
        {
          "output_type": "execute_result",
          "data": {
            "text/plain": [
              "<matplotlib.axes._subplots.AxesSubplot at 0x7f2c0c293048>"
            ]
          },
          "metadata": {
            "tags": []
          },
          "execution_count": 422
        },
        {
          "output_type": "display_data",
          "data": {
            "image/png": "[encoded data removed]",
            "text/plain": [
              "<Figure size 432x288 with 1 Axes>"
            ]
          },
          "metadata": {
            "tags": [],
            "needs_background": "light"
          }
        }
      ]
    },
    {
      "cell_type": "code",
      "metadata": {
        "id": "eaJtFXFqk2Kh",
        "colab": {
          "base_uri": "https://localhost:8080/",
          "height": 677
        },
        "outputId": "785b0d57-7bfa-44eb-ed33-abda462cfe5c"
      },
      "source": [
        "datacpy['Bathroom_per_BHK'] = datacpy['Bathroom']/datacpy['BHK']\r\n",
        "datacpy['Parking_per_BHK'] = datacpy['Parking']/datacpy['BHK']\r\n",
        "datacpy['BHK_per_Area'] = datacpy['BHK']/datacpy['Area']\r\n",
        "datacpy"
      ],
      "execution_count": null,
      "outputs": [
        {
          "output_type": "execute_result",
          "data": {
            "text/html": [
              "<div>\n",
              "<style scoped>\n",
              "    .dataframe tbody tr th:only-of-type {\n",
              "        vertical-align: middle;\n",
              "    }\n",
              "\n",
              "    .dataframe tbody tr th {\n",
              "        vertical-align: top;\n",
              "    }\n",
              "\n",
              "    .dataframe thead th {\n",
              "        text-align: right;\n",
              "    }\n",
              "</style>\n",
              "<table border=\"1\" class=\"dataframe\">\n",
              "  <thead>\n",
              "    <tr style=\"text-align: right;\">\n",
              "      <th></th>\n",
              "      <th>Area</th>\n",
              "      <th>BHK</th>\n",
              "      <th>Bathroom</th>\n",
              "      <th>Furnishing</th>\n",
              "      <th>Locality</th>\n",
              "      <th>Parking</th>\n",
              "      <th>Price</th>\n",
              "      <th>Status</th>\n",
              "      <th>Transaction</th>\n",
              "      <th>Type</th>\n",
              "      <th>Per_Sqft</th>\n",
              "      <th>Bathroom_per_BHK</th>\n",
              "      <th>Parking_per_BHK</th>\n",
              "      <th>BHK_per_Area</th>\n",
              "    </tr>\n",
              "  </thead>\n",
              "  <tbody>\n",
              "    <tr>\n",
              "      <th>769</th>\n",
              "      <td>800.0</td>\n",
              "      <td>2</td>\n",
              "      <td>2.0</td>\n",
              "      <td>Unfurnished</td>\n",
              "      <td>Dilshad Colony, Dilshad Garden</td>\n",
              "      <td>1.0</td>\n",
              "      <td>6000000</td>\n",
              "      <td>Ready_to_move</td>\n",
              "      <td>Resale</td>\n",
              "      <td>Builder_Floor</td>\n",
              "      <td>7500.0</td>\n",
              "      <td>1.000000</td>\n",
              "      <td>0.500000</td>\n",
              "      <td>0.002500</td>\n",
              "    </tr>\n",
              "    <tr>\n",
              "      <th>122</th>\n",
              "      <td>270.0</td>\n",
              "      <td>2</td>\n",
              "      <td>1.0</td>\n",
              "      <td>Semi-Furnished</td>\n",
              "      <td>Budh Vihar Phase 1</td>\n",
              "      <td>1.0</td>\n",
              "      <td>1400000</td>\n",
              "      <td>Ready_to_move</td>\n",
              "      <td>Resale</td>\n",
              "      <td>Apartment</td>\n",
              "      <td>5185.0</td>\n",
              "      <td>0.500000</td>\n",
              "      <td>0.500000</td>\n",
              "      <td>0.007407</td>\n",
              "    </tr>\n",
              "    <tr>\n",
              "      <th>484</th>\n",
              "      <td>2100.0</td>\n",
              "      <td>3</td>\n",
              "      <td>4.0</td>\n",
              "      <td>Semi-Furnished</td>\n",
              "      <td>Saket</td>\n",
              "      <td>2.0</td>\n",
              "      <td>25000000</td>\n",
              "      <td>Ready_to_move</td>\n",
              "      <td>Resale</td>\n",
              "      <td>Builder_Floor</td>\n",
              "      <td>14705.0</td>\n",
              "      <td>1.333333</td>\n",
              "      <td>0.666667</td>\n",
              "      <td>0.001429</td>\n",
              "    </tr>\n",
              "    <tr>\n",
              "      <th>882</th>\n",
              "      <td>650.0</td>\n",
              "      <td>2</td>\n",
              "      <td>2.0</td>\n",
              "      <td>Unfurnished</td>\n",
              "      <td>Panchsheel Vihar, Sheikh Sarai</td>\n",
              "      <td>1.0</td>\n",
              "      <td>3800000</td>\n",
              "      <td>Ready_to_move</td>\n",
              "      <td>Resale</td>\n",
              "      <td>Apartment</td>\n",
              "      <td>15882.0</td>\n",
              "      <td>1.000000</td>\n",
              "      <td>0.500000</td>\n",
              "      <td>0.003077</td>\n",
              "    </tr>\n",
              "    <tr>\n",
              "      <th>212</th>\n",
              "      <td>1600.0</td>\n",
              "      <td>3</td>\n",
              "      <td>3.0</td>\n",
              "      <td>Semi-Furnished</td>\n",
              "      <td>New Friends Colony</td>\n",
              "      <td>2.0</td>\n",
              "      <td>40000000</td>\n",
              "      <td>Ready_to_move</td>\n",
              "      <td>Resale</td>\n",
              "      <td>Apartment</td>\n",
              "      <td>15459.0</td>\n",
              "      <td>1.000000</td>\n",
              "      <td>0.666667</td>\n",
              "      <td>0.001875</td>\n",
              "    </tr>\n",
              "    <tr>\n",
              "      <th>...</th>\n",
              "      <td>...</td>\n",
              "      <td>...</td>\n",
              "      <td>...</td>\n",
              "      <td>...</td>\n",
              "      <td>...</td>\n",
              "      <td>...</td>\n",
              "      <td>...</td>\n",
              "      <td>...</td>\n",
              "      <td>...</td>\n",
              "      <td>...</td>\n",
              "      <td>...</td>\n",
              "      <td>...</td>\n",
              "      <td>...</td>\n",
              "      <td>...</td>\n",
              "    </tr>\n",
              "    <tr>\n",
              "      <th>118</th>\n",
              "      <td>900.0</td>\n",
              "      <td>3</td>\n",
              "      <td>2.0</td>\n",
              "      <td>Semi-Furnished</td>\n",
              "      <td>Budh Vihar</td>\n",
              "      <td>1.0</td>\n",
              "      <td>4000000</td>\n",
              "      <td>Ready_to_move</td>\n",
              "      <td>Resale</td>\n",
              "      <td>Builder_Floor</td>\n",
              "      <td>4444.0</td>\n",
              "      <td>0.666667</td>\n",
              "      <td>0.333333</td>\n",
              "      <td>0.003333</td>\n",
              "    </tr>\n",
              "    <tr>\n",
              "      <th>291</th>\n",
              "      <td>504.0</td>\n",
              "      <td>2</td>\n",
              "      <td>1.0</td>\n",
              "      <td>Furnished</td>\n",
              "      <td>Yamuna Vihar, Shahdara</td>\n",
              "      <td>1.0</td>\n",
              "      <td>2700000</td>\n",
              "      <td>Ready_to_move</td>\n",
              "      <td>Resale</td>\n",
              "      <td>Builder_Floor</td>\n",
              "      <td>5357.0</td>\n",
              "      <td>0.500000</td>\n",
              "      <td>0.500000</td>\n",
              "      <td>0.003968</td>\n",
              "    </tr>\n",
              "    <tr>\n",
              "      <th>141</th>\n",
              "      <td>1300.0</td>\n",
              "      <td>4</td>\n",
              "      <td>4.0</td>\n",
              "      <td>Semi-Furnished</td>\n",
              "      <td>Rohini Sector 22</td>\n",
              "      <td>1.0</td>\n",
              "      <td>15000000</td>\n",
              "      <td>Ready_to_move</td>\n",
              "      <td>New_Property</td>\n",
              "      <td>Builder_Floor</td>\n",
              "      <td>5255.0</td>\n",
              "      <td>1.000000</td>\n",
              "      <td>0.250000</td>\n",
              "      <td>0.003077</td>\n",
              "    </tr>\n",
              "    <tr>\n",
              "      <th>573</th>\n",
              "      <td>3405.0</td>\n",
              "      <td>5</td>\n",
              "      <td>4.0</td>\n",
              "      <td>Semi-Furnished</td>\n",
              "      <td>Common Wealth Games Village, Commonwealth Game...</td>\n",
              "      <td>3.0</td>\n",
              "      <td>71500000</td>\n",
              "      <td>Ready_to_move</td>\n",
              "      <td>Resale</td>\n",
              "      <td>Apartment</td>\n",
              "      <td>20999.0</td>\n",
              "      <td>0.800000</td>\n",
              "      <td>0.600000</td>\n",
              "      <td>0.001468</td>\n",
              "    </tr>\n",
              "    <tr>\n",
              "      <th>29</th>\n",
              "      <td>900.0</td>\n",
              "      <td>2</td>\n",
              "      <td>2.0</td>\n",
              "      <td>Semi-Furnished</td>\n",
              "      <td>Amar Colony, Lajpat Nagar</td>\n",
              "      <td>2.0</td>\n",
              "      <td>13000000</td>\n",
              "      <td>Ready_to_move</td>\n",
              "      <td>New_Property</td>\n",
              "      <td>Builder_Floor</td>\n",
              "      <td>14444.0</td>\n",
              "      <td>1.000000</td>\n",
              "      <td>1.000000</td>\n",
              "      <td>0.002222</td>\n",
              "    </tr>\n",
              "  </tbody>\n",
              "</table>\n",
              "<p>804 rows × 14 columns</p>\n",
              "</div>"
            ],
            "text/plain": [
              "       Area  BHK  Bathroom  ... Bathroom_per_BHK Parking_per_BHK  BHK_per_Area\n",
              "769   800.0    2       2.0  ...         1.000000        0.500000      0.002500\n",
              "122   270.0    2       1.0  ...         0.500000        0.500000      0.007407\n",
              "484  2100.0    3       4.0  ...         1.333333        0.666667      0.001429\n",
              "882   650.0    2       2.0  ...         1.000000        0.500000      0.003077\n",
              "212  1600.0    3       3.0  ...         1.000000        0.666667      0.001875\n",
              "..      ...  ...       ...  ...              ...             ...           ...\n",
              "118   900.0    3       2.0  ...         0.666667        0.333333      0.003333\n",
              "291   504.0    2       1.0  ...         0.500000        0.500000      0.003968\n",
              "141  1300.0    4       4.0  ...         1.000000        0.250000      0.003077\n",
              "573  3405.0    5       4.0  ...         0.800000        0.600000      0.001468\n",
              "29    900.0    2       2.0  ...         1.000000        1.000000      0.002222\n",
              "\n",
              "[804 rows x 14 columns]"
            ]
          },
          "metadata": {
            "tags": []
          },
          "execution_count": 423
        }
      ]
    },
    {
      "cell_type": "code",
      "metadata": {
        "colab": {
          "base_uri": "https://localhost:8080/"
        },
        "id": "F9zXrXqfoNqT",
        "outputId": "72b709e6-e621-4b55-a4fd-4f64f02d7620"
      },
      "source": [
        "cor2 = datacpy.corr()\r\n",
        "cor2['Price'].sort_values(ascending= False)"
      ],
      "execution_count": null,
      "outputs": [
        {
          "output_type": "execute_result",
          "data": {
            "text/plain": [
              "Price               1.000000\n",
              "Bathroom            0.718687\n",
              "Area                0.599028\n",
              "BHK                 0.582759\n",
              "Per_Sqft            0.329223\n",
              "Bathroom_per_BHK    0.301046\n",
              "Parking             0.051831\n",
              "Parking_per_BHK    -0.061273\n",
              "BHK_per_Area       -0.150610\n",
              "Name: Price, dtype: float64"
            ]
          },
          "metadata": {
            "tags": []
          },
          "execution_count": 424
        }
      ]
    },
    {
      "cell_type": "code",
      "metadata": {
        "colab": {
          "base_uri": "https://localhost:8080/",
          "height": 295
        },
        "id": "a8rPNcm1ocYn",
        "outputId": "6de529ed-346a-45fb-c282-f24c30b794b4"
      },
      "source": [
        "datacpy.plot(kind ='hist', x ='BHK_per_Area', y = 'Price')"
      ],
      "execution_count": null,
      "outputs": [
        {
          "output_type": "execute_result",
          "data": {
            "text/plain": [
              "<matplotlib.axes._subplots.AxesSubplot at 0x7f2c0c13f0f0>"
            ]
          },
          "metadata": {
            "tags": []
          },
          "execution_count": 425
        },
        {
          "output_type": "display_data",
          "data": {
            "image/png": "[encoded data removed]",
            "text/plain": [
              "<Figure size 432x288 with 1 Axes>"
            ]
          },
          "metadata": {
            "tags": [],
            "needs_background": "light"
          }
        }
      ]
    },
    {
      "cell_type": "code",
      "metadata": {
        "colab": {
          "base_uri": "https://localhost:8080/",
          "height": 307
        },
        "id": "iaR0WQpVpBBs",
        "outputId": "92db59fa-f56c-4bfd-ba79-ed627ed98c8d"
      },
      "source": [
        "datacpy.plot(kind ='scatter', x ='Bathroom', y = 'Price', alpha=.1)"
      ],
      "execution_count": null,
      "outputs": [
        {
          "output_type": "execute_result",
          "data": {
            "text/plain": [
              "<matplotlib.axes._subplots.AxesSubplot at 0x7f2c0c1351d0>"
            ]
          },
          "metadata": {
            "tags": []
          },
          "execution_count": 426
        },
        {
          "output_type": "display_data",
          "data": {
            "image/png": "[encoded data removed]",
            "text/plain": [
              "<Figure size 432x288 with 1 Axes>"
            ]
          },
          "metadata": {
            "tags": [],
            "needs_background": "light"
          }
        }
      ]
    },
    {
      "cell_type": "code",
      "metadata": {
        "colab": {
          "base_uri": "https://localhost:8080/"
        },
        "id": "v4rWNRc1WTrT",
        "outputId": "18f8cd07-2698-48c9-c877-f87b45c918f5"
      },
      "source": [
        "datacpy['Transaction'].value_counts()"
      ],
      "execution_count": null,
      "outputs": [
        {
          "output_type": "execute_result",
          "data": {
            "text/plain": [
              "Resale          478\n",
              "New_Property    326\n",
              "Name: Transaction, dtype: int64"
            ]
          },
          "metadata": {
            "tags": []
          },
          "execution_count": 427
        }
      ]
    },
    {
      "cell_type": "code",
      "metadata": {
        "colab": {
          "base_uri": "https://localhost:8080/"
        },
        "id": "BlKRCMujWC4d",
        "outputId": "9bce12a0-34c0-43b0-8bcd-1c2eeb5b987f"
      },
      "source": [
        "datacpy['Status'].value_counts()"
      ],
      "execution_count": null,
      "outputs": [
        {
          "output_type": "execute_result",
          "data": {
            "text/plain": [
              "Ready_to_move    752\n",
              "Almost_ready      52\n",
              "Name: Status, dtype: int64"
            ]
          },
          "metadata": {
            "tags": []
          },
          "execution_count": 428
        }
      ]
    },
    {
      "cell_type": "code",
      "metadata": {
        "colab": {
          "base_uri": "https://localhost:8080/"
        },
        "id": "2BQzc_g6V016",
        "outputId": "83fb3ef5-bb47-4eef-f9dd-ee591fb60644"
      },
      "source": [
        "datacpy['Type'].value_counts()"
      ],
      "execution_count": null,
      "outputs": [
        {
          "output_type": "execute_result",
          "data": {
            "text/plain": [
              "Builder_Floor    438\n",
              "Apartment        366\n",
              "Name: Type, dtype: int64"
            ]
          },
          "metadata": {
            "tags": []
          },
          "execution_count": 429
        }
      ]
    },
    {
      "cell_type": "code",
      "metadata": {
        "colab": {
          "base_uri": "https://localhost:8080/"
        },
        "id": "uLFIbc2ZVnpw",
        "outputId": "8e9fbf0a-c290-487a-fc50-c6071751d094"
      },
      "source": [
        "datacpy['Furnishing'].value_counts()"
      ],
      "execution_count": null,
      "outputs": [
        {
          "output_type": "execute_result",
          "data": {
            "text/plain": [
              "Semi-Furnished    441\n",
              "Unfurnished       246\n",
              "Furnished         117\n",
              "Name: Furnishing, dtype: int64"
            ]
          },
          "metadata": {
            "tags": []
          },
          "execution_count": 430
        }
      ]
    },
    {
      "cell_type": "code",
      "metadata": {
        "colab": {
          "base_uri": "https://localhost:8080/"
        },
        "id": "e9UbWit8U57o",
        "outputId": "7980de74-a09c-40e4-c540-4592f130317b"
      },
      "source": [
        "datacpy['Locality'].value_counts()"
      ],
      "execution_count": null,
      "outputs": [
        {
          "output_type": "execute_result",
          "data": {
            "text/plain": [
              "J R Designers Floors, Rohini Sector 24                                                                                                                                                                                                                                                                                                                                                                                                                                                                                                                                                                                                                                                                                                       27\n",
              "Kailash Colony, Greater Kailash                                                                                                                                                                                                                                                                                                                                                                                                                                                                                                                                                                                                                                                                                                              22\n",
              "Lajpat Nagar 2                                                                                                                                                                                                                                                                                                                                                                                                                                                                                                                                                                                                                                                                                                                               20\n",
              "Yamuna Vihar, Shahdara                                                                                                                                                                                                                                                                                                                                                                                                                                                                                                                                                                                                                                                                                                                       19\n",
              "Saket                                                                                                                                                                                                                                                                                                                                                                                                                                                                                                                                                                                                                                                                                                                                        17\n",
              "                                                                                                                                                                                                                                                                                                                                                                                                                                                                                                                                                                                                                                                                                                                                             ..\n",
              "Sunder Apartments, Sunder Vihar, Paschim Vihar                                                                                                                                                                                                                                                                                                                                                                                                                                                                                                                                                                                                                                                                                                1\n",
              "Dwarka                                                                                                                                                                                                                                                                                                                                                                                                                                                                                                                                                                                                                                                                                                                                        1\n",
              "Deshbandhu Apartments, Kalkaji carpet area 1300 sqft status Ready to Move floor 3 out of 4 floors transaction Resale furnishing Unfurnished facing North - East overlooking Garden/Park, Main Road society Deshbandhu Apartments car parking 1 Covered, 1 Open bathroom 2 balcony 2 ownership Freehold Third Floor with terrace 3 bhk builder floor apartment with 2 attached bathrooms located in kalkaji Deshbandu apartment . all water and electrical connections installed, very spacious drawing room , 2 balconies in front and rear each dedicated parking spot for 1 car. extra parking space available for additional cars, Immediately for sale , read more Contact Agent View Phone No. Share Feedback Agent Bhawani Realtors     1\n",
              "Shubh Niketan, Paschim Vihar                                                                                                                                                                                                                                                                                                                                                                                                                                                                                                                                                                                                                                                                                                                  1\n",
              "DDA Flats Pocket 3, Narela                                                                                                                                                                                                                                                                                                                                                                                                                                                                                                                                                                                                                                                                                                                    1\n",
              "Name: Locality, Length: 270, dtype: int64"
            ]
          },
          "metadata": {
            "tags": []
          },
          "execution_count": 431
        }
      ]
    },
    {
      "cell_type": "code",
      "metadata": {
        "colab": {
          "base_uri": "https://localhost:8080/",
          "height": 677
        },
        "id": "zzjJfLdXZe0b",
        "outputId": "366f9437-6a5e-4c52-b175-c8c24e1457e4"
      },
      "source": [
        "datacpy = strat_train_set.drop('Price', axis=1)\r\n",
        "datacpy"
      ],
      "execution_count": null,
      "outputs": [
        {
          "output_type": "execute_result",
          "data": {
            "text/html": [
              "<div>\n",
              "<style scoped>\n",
              "    .dataframe tbody tr th:only-of-type {\n",
              "        vertical-align: middle;\n",
              "    }\n",
              "\n",
              "    .dataframe tbody tr th {\n",
              "        vertical-align: top;\n",
              "    }\n",
              "\n",
              "    .dataframe thead th {\n",
              "        text-align: right;\n",
              "    }\n",
              "</style>\n",
              "<table border=\"1\" class=\"dataframe\">\n",
              "  <thead>\n",
              "    <tr style=\"text-align: right;\">\n",
              "      <th></th>\n",
              "      <th>Area</th>\n",
              "      <th>BHK</th>\n",
              "      <th>Bathroom</th>\n",
              "      <th>Furnishing</th>\n",
              "      <th>Locality</th>\n",
              "      <th>Parking</th>\n",
              "      <th>Status</th>\n",
              "      <th>Transaction</th>\n",
              "      <th>Type</th>\n",
              "      <th>Per_Sqft</th>\n",
              "      <th>Bathroom_per_BHK</th>\n",
              "      <th>Parking_per_BHK</th>\n",
              "      <th>BHK_per_Area</th>\n",
              "    </tr>\n",
              "  </thead>\n",
              "  <tbody>\n",
              "    <tr>\n",
              "      <th>769</th>\n",
              "      <td>800.0</td>\n",
              "      <td>2</td>\n",
              "      <td>2.0</td>\n",
              "      <td>Unfurnished</td>\n",
              "      <td>Dilshad Colony, Dilshad Garden</td>\n",
              "      <td>1.0</td>\n",
              "      <td>Ready_to_move</td>\n",
              "      <td>Resale</td>\n",
              "      <td>Builder_Floor</td>\n",
              "      <td>7500.0</td>\n",
              "      <td>1.000000</td>\n",
              "      <td>0.500000</td>\n",
              "      <td>0.002500</td>\n",
              "    </tr>\n",
              "    <tr>\n",
              "      <th>122</th>\n",
              "      <td>270.0</td>\n",
              "      <td>2</td>\n",
              "      <td>1.0</td>\n",
              "      <td>Semi-Furnished</td>\n",
              "      <td>Budh Vihar Phase 1</td>\n",
              "      <td>1.0</td>\n",
              "      <td>Ready_to_move</td>\n",
              "      <td>Resale</td>\n",
              "      <td>Apartment</td>\n",
              "      <td>5185.0</td>\n",
              "      <td>0.500000</td>\n",
              "      <td>0.500000</td>\n",
              "      <td>0.007407</td>\n",
              "    </tr>\n",
              "    <tr>\n",
              "      <th>484</th>\n",
              "      <td>2100.0</td>\n",
              "      <td>3</td>\n",
              "      <td>4.0</td>\n",
              "      <td>Semi-Furnished</td>\n",
              "      <td>Saket</td>\n",
              "      <td>2.0</td>\n",
              "      <td>Ready_to_move</td>\n",
              "      <td>Resale</td>\n",
              "      <td>Builder_Floor</td>\n",
              "      <td>14705.0</td>\n",
              "      <td>1.333333</td>\n",
              "      <td>0.666667</td>\n",
              "      <td>0.001429</td>\n",
              "    </tr>\n",
              "    <tr>\n",
              "      <th>882</th>\n",
              "      <td>650.0</td>\n",
              "      <td>2</td>\n",
              "      <td>2.0</td>\n",
              "      <td>Unfurnished</td>\n",
              "      <td>Panchsheel Vihar, Sheikh Sarai</td>\n",
              "      <td>1.0</td>\n",
              "      <td>Ready_to_move</td>\n",
              "      <td>Resale</td>\n",
              "      <td>Apartment</td>\n",
              "      <td>15882.0</td>\n",
              "      <td>1.000000</td>\n",
              "      <td>0.500000</td>\n",
              "      <td>0.003077</td>\n",
              "    </tr>\n",
              "    <tr>\n",
              "      <th>212</th>\n",
              "      <td>1600.0</td>\n",
              "      <td>3</td>\n",
              "      <td>3.0</td>\n",
              "      <td>Semi-Furnished</td>\n",
              "      <td>New Friends Colony</td>\n",
              "      <td>2.0</td>\n",
              "      <td>Ready_to_move</td>\n",
              "      <td>Resale</td>\n",
              "      <td>Apartment</td>\n",
              "      <td>15459.0</td>\n",
              "      <td>1.000000</td>\n",
              "      <td>0.666667</td>\n",
              "      <td>0.001875</td>\n",
              "    </tr>\n",
              "    <tr>\n",
              "      <th>...</th>\n",
              "      <td>...</td>\n",
              "      <td>...</td>\n",
              "      <td>...</td>\n",
              "      <td>...</td>\n",
              "      <td>...</td>\n",
              "      <td>...</td>\n",
              "      <td>...</td>\n",
              "      <td>...</td>\n",
              "      <td>...</td>\n",
              "      <td>...</td>\n",
              "      <td>...</td>\n",
              "      <td>...</td>\n",
              "      <td>...</td>\n",
              "    </tr>\n",
              "    <tr>\n",
              "      <th>118</th>\n",
              "      <td>900.0</td>\n",
              "      <td>3</td>\n",
              "      <td>2.0</td>\n",
              "      <td>Semi-Furnished</td>\n",
              "      <td>Budh Vihar</td>\n",
              "      <td>1.0</td>\n",
              "      <td>Ready_to_move</td>\n",
              "      <td>Resale</td>\n",
              "      <td>Builder_Floor</td>\n",
              "      <td>4444.0</td>\n",
              "      <td>0.666667</td>\n",
              "      <td>0.333333</td>\n",
              "      <td>0.003333</td>\n",
              "    </tr>\n",
              "    <tr>\n",
              "      <th>291</th>\n",
              "      <td>504.0</td>\n",
              "      <td>2</td>\n",
              "      <td>1.0</td>\n",
              "      <td>Furnished</td>\n",
              "      <td>Yamuna Vihar, Shahdara</td>\n",
              "      <td>1.0</td>\n",
              "      <td>Ready_to_move</td>\n",
              "      <td>Resale</td>\n",
              "      <td>Builder_Floor</td>\n",
              "      <td>5357.0</td>\n",
              "      <td>0.500000</td>\n",
              "      <td>0.500000</td>\n",
              "      <td>0.003968</td>\n",
              "    </tr>\n",
              "    <tr>\n",
              "      <th>141</th>\n",
              "      <td>1300.0</td>\n",
              "      <td>4</td>\n",
              "      <td>4.0</td>\n",
              "      <td>Semi-Furnished</td>\n",
              "      <td>Rohini Sector 22</td>\n",
              "      <td>1.0</td>\n",
              "      <td>Ready_to_move</td>\n",
              "      <td>New_Property</td>\n",
              "      <td>Builder_Floor</td>\n",
              "      <td>5255.0</td>\n",
              "      <td>1.000000</td>\n",
              "      <td>0.250000</td>\n",
              "      <td>0.003077</td>\n",
              "    </tr>\n",
              "    <tr>\n",
              "      <th>573</th>\n",
              "      <td>3405.0</td>\n",
              "      <td>5</td>\n",
              "      <td>4.0</td>\n",
              "      <td>Semi-Furnished</td>\n",
              "      <td>Common Wealth Games Village, Commonwealth Game...</td>\n",
              "      <td>3.0</td>\n",
              "      <td>Ready_to_move</td>\n",
              "      <td>Resale</td>\n",
              "      <td>Apartment</td>\n",
              "      <td>20999.0</td>\n",
              "      <td>0.800000</td>\n",
              "      <td>0.600000</td>\n",
              "      <td>0.001468</td>\n",
              "    </tr>\n",
              "    <tr>\n",
              "      <th>29</th>\n",
              "      <td>900.0</td>\n",
              "      <td>2</td>\n",
              "      <td>2.0</td>\n",
              "      <td>Semi-Furnished</td>\n",
              "      <td>Amar Colony, Lajpat Nagar</td>\n",
              "      <td>2.0</td>\n",
              "      <td>Ready_to_move</td>\n",
              "      <td>New_Property</td>\n",
              "      <td>Builder_Floor</td>\n",
              "      <td>14444.0</td>\n",
              "      <td>1.000000</td>\n",
              "      <td>1.000000</td>\n",
              "      <td>0.002222</td>\n",
              "    </tr>\n",
              "  </tbody>\n",
              "</table>\n",
              "<p>804 rows × 13 columns</p>\n",
              "</div>"
            ],
            "text/plain": [
              "       Area  BHK  Bathroom  ... Bathroom_per_BHK Parking_per_BHK  BHK_per_Area\n",
              "769   800.0    2       2.0  ...         1.000000        0.500000      0.002500\n",
              "122   270.0    2       1.0  ...         0.500000        0.500000      0.007407\n",
              "484  2100.0    3       4.0  ...         1.333333        0.666667      0.001429\n",
              "882   650.0    2       2.0  ...         1.000000        0.500000      0.003077\n",
              "212  1600.0    3       3.0  ...         1.000000        0.666667      0.001875\n",
              "..      ...  ...       ...  ...              ...             ...           ...\n",
              "118   900.0    3       2.0  ...         0.666667        0.333333      0.003333\n",
              "291   504.0    2       1.0  ...         0.500000        0.500000      0.003968\n",
              "141  1300.0    4       4.0  ...         1.000000        0.250000      0.003077\n",
              "573  3405.0    5       4.0  ...         0.800000        0.600000      0.001468\n",
              "29    900.0    2       2.0  ...         1.000000        1.000000      0.002222\n",
              "\n",
              "[804 rows x 13 columns]"
            ]
          },
          "metadata": {
            "tags": []
          },
          "execution_count": 432
        }
      ]
    },
    {
      "cell_type": "code",
      "metadata": {
        "colab": {
          "base_uri": "https://localhost:8080/"
        },
        "id": "TS3YTFgLcMrr",
        "outputId": "71b52f34-c20b-4011-d104-91d7d160fb23"
      },
      "source": [
        "datacpy_labels = strat_train_set['Price'].copy()\r\n",
        "datacpy_labels"
      ],
      "execution_count": null,
      "outputs": [
        {
          "output_type": "execute_result",
          "data": {
            "text/plain": [
              "769     6000000\n",
              "122     1400000\n",
              "484    25000000\n",
              "882     3800000\n",
              "212    40000000\n",
              "         ...   \n",
              "118     4000000\n",
              "291     2700000\n",
              "141    15000000\n",
              "573    71500000\n",
              "29     13000000\n",
              "Name: Price, Length: 804, dtype: int64"
            ]
          },
          "metadata": {
            "tags": []
          },
          "execution_count": 433
        }
      ]
    },
    {
      "cell_type": "code",
      "metadata": {
        "colab": {
          "base_uri": "https://localhost:8080/",
          "height": 419
        },
        "id": "wjBgUUVcphag",
        "outputId": "33f4019e-1325-4a3a-8415-226d03c3c212"
      },
      "source": [
        "drop_columns = ['BHK','Bathroom_per_BHK','Locality','Parking']\r\n",
        "datacpy = datacpy.drop(drop_columns, axis=1)\r\n",
        "datacpy"
      ],
      "execution_count": null,
      "outputs": [
        {
          "output_type": "execute_result",
          "data": {
            "text/html": [
              "<div>\n",
              "<style scoped>\n",
              "    .dataframe tbody tr th:only-of-type {\n",
              "        vertical-align: middle;\n",
              "    }\n",
              "\n",
              "    .dataframe tbody tr th {\n",
              "        vertical-align: top;\n",
              "    }\n",
              "\n",
              "    .dataframe thead th {\n",
              "        text-align: right;\n",
              "    }\n",
              "</style>\n",
              "<table border=\"1\" class=\"dataframe\">\n",
              "  <thead>\n",
              "    <tr style=\"text-align: right;\">\n",
              "      <th></th>\n",
              "      <th>Area</th>\n",
              "      <th>Bathroom</th>\n",
              "      <th>Furnishing</th>\n",
              "      <th>Status</th>\n",
              "      <th>Transaction</th>\n",
              "      <th>Type</th>\n",
              "      <th>Per_Sqft</th>\n",
              "      <th>Parking_per_BHK</th>\n",
              "      <th>BHK_per_Area</th>\n",
              "    </tr>\n",
              "  </thead>\n",
              "  <tbody>\n",
              "    <tr>\n",
              "      <th>769</th>\n",
              "      <td>800.0</td>\n",
              "      <td>2.0</td>\n",
              "      <td>Unfurnished</td>\n",
              "      <td>Ready_to_move</td>\n",
              "      <td>Resale</td>\n",
              "      <td>Builder_Floor</td>\n",
              "      <td>7500.0</td>\n",
              "      <td>0.500000</td>\n",
              "      <td>0.002500</td>\n",
              "    </tr>\n",
              "    <tr>\n",
              "      <th>122</th>\n",
              "      <td>270.0</td>\n",
              "      <td>1.0</td>\n",
              "      <td>Semi-Furnished</td>\n",
              "      <td>Ready_to_move</td>\n",
              "      <td>Resale</td>\n",
              "      <td>Apartment</td>\n",
              "      <td>5185.0</td>\n",
              "      <td>0.500000</td>\n",
              "      <td>0.007407</td>\n",
              "    </tr>\n",
              "    <tr>\n",
              "      <th>484</th>\n",
              "      <td>2100.0</td>\n",
              "      <td>4.0</td>\n",
              "      <td>Semi-Furnished</td>\n",
              "      <td>Ready_to_move</td>\n",
              "      <td>Resale</td>\n",
              "      <td>Builder_Floor</td>\n",
              "      <td>14705.0</td>\n",
              "      <td>0.666667</td>\n",
              "      <td>0.001429</td>\n",
              "    </tr>\n",
              "    <tr>\n",
              "      <th>882</th>\n",
              "      <td>650.0</td>\n",
              "      <td>2.0</td>\n",
              "      <td>Unfurnished</td>\n",
              "      <td>Ready_to_move</td>\n",
              "      <td>Resale</td>\n",
              "      <td>Apartment</td>\n",
              "      <td>15882.0</td>\n",
              "      <td>0.500000</td>\n",
              "      <td>0.003077</td>\n",
              "    </tr>\n",
              "    <tr>\n",
              "      <th>212</th>\n",
              "      <td>1600.0</td>\n",
              "      <td>3.0</td>\n",
              "      <td>Semi-Furnished</td>\n",
              "      <td>Ready_to_move</td>\n",
              "      <td>Resale</td>\n",
              "      <td>Apartment</td>\n",
              "      <td>15459.0</td>\n",
              "      <td>0.666667</td>\n",
              "      <td>0.001875</td>\n",
              "    </tr>\n",
              "    <tr>\n",
              "      <th>...</th>\n",
              "      <td>...</td>\n",
              "      <td>...</td>\n",
              "      <td>...</td>\n",
              "      <td>...</td>\n",
              "      <td>...</td>\n",
              "      <td>...</td>\n",
              "      <td>...</td>\n",
              "      <td>...</td>\n",
              "      <td>...</td>\n",
              "    </tr>\n",
              "    <tr>\n",
              "      <th>118</th>\n",
              "      <td>900.0</td>\n",
              "      <td>2.0</td>\n",
              "      <td>Semi-Furnished</td>\n",
              "      <td>Ready_to_move</td>\n",
              "      <td>Resale</td>\n",
              "      <td>Builder_Floor</td>\n",
              "      <td>4444.0</td>\n",
              "      <td>0.333333</td>\n",
              "      <td>0.003333</td>\n",
              "    </tr>\n",
              "    <tr>\n",
              "      <th>291</th>\n",
              "      <td>504.0</td>\n",
              "      <td>1.0</td>\n",
              "      <td>Furnished</td>\n",
              "      <td>Ready_to_move</td>\n",
              "      <td>Resale</td>\n",
              "      <td>Builder_Floor</td>\n",
              "      <td>5357.0</td>\n",
              "      <td>0.500000</td>\n",
              "      <td>0.003968</td>\n",
              "    </tr>\n",
              "    <tr>\n",
              "      <th>141</th>\n",
              "      <td>1300.0</td>\n",
              "      <td>4.0</td>\n",
              "      <td>Semi-Furnished</td>\n",
              "      <td>Ready_to_move</td>\n",
              "      <td>New_Property</td>\n",
              "      <td>Builder_Floor</td>\n",
              "      <td>5255.0</td>\n",
              "      <td>0.250000</td>\n",
              "      <td>0.003077</td>\n",
              "    </tr>\n",
              "    <tr>\n",
              "      <th>573</th>\n",
              "      <td>3405.0</td>\n",
              "      <td>4.0</td>\n",
              "      <td>Semi-Furnished</td>\n",
              "      <td>Ready_to_move</td>\n",
              "      <td>Resale</td>\n",
              "      <td>Apartment</td>\n",
              "      <td>20999.0</td>\n",
              "      <td>0.600000</td>\n",
              "      <td>0.001468</td>\n",
              "    </tr>\n",
              "    <tr>\n",
              "      <th>29</th>\n",
              "      <td>900.0</td>\n",
              "      <td>2.0</td>\n",
              "      <td>Semi-Furnished</td>\n",
              "      <td>Ready_to_move</td>\n",
              "      <td>New_Property</td>\n",
              "      <td>Builder_Floor</td>\n",
              "      <td>14444.0</td>\n",
              "      <td>1.000000</td>\n",
              "      <td>0.002222</td>\n",
              "    </tr>\n",
              "  </tbody>\n",
              "</table>\n",
              "<p>804 rows × 9 columns</p>\n",
              "</div>"
            ],
            "text/plain": [
              "       Area  Bathroom      Furnishing  ... Per_Sqft Parking_per_BHK BHK_per_Area\n",
              "769   800.0       2.0     Unfurnished  ...   7500.0        0.500000     0.002500\n",
              "122   270.0       1.0  Semi-Furnished  ...   5185.0        0.500000     0.007407\n",
              "484  2100.0       4.0  Semi-Furnished  ...  14705.0        0.666667     0.001429\n",
              "882   650.0       2.0     Unfurnished  ...  15882.0        0.500000     0.003077\n",
              "212  1600.0       3.0  Semi-Furnished  ...  15459.0        0.666667     0.001875\n",
              "..      ...       ...             ...  ...      ...             ...          ...\n",
              "118   900.0       2.0  Semi-Furnished  ...   4444.0        0.333333     0.003333\n",
              "291   504.0       1.0       Furnished  ...   5357.0        0.500000     0.003968\n",
              "141  1300.0       4.0  Semi-Furnished  ...   5255.0        0.250000     0.003077\n",
              "573  3405.0       4.0  Semi-Furnished  ...  20999.0        0.600000     0.001468\n",
              "29    900.0       2.0  Semi-Furnished  ...  14444.0        1.000000     0.002222\n",
              "\n",
              "[804 rows x 9 columns]"
            ]
          },
          "metadata": {
            "tags": []
          },
          "execution_count": 434
        }
      ]
    },
    {
      "cell_type": "code",
      "metadata": {
        "colab": {
          "base_uri": "https://localhost:8080/",
          "height": 419
        },
        "id": "zjN-n1PhWSuh",
        "outputId": "cdd6e931-7457-4b24-b021-f042407e2377"
      },
      "source": [
        "catagorical = ['Type','Transaction','Status','Furnishing']\r\n",
        "datacpy_num= datacpy.drop(catagorical, axis=1)\r\n",
        "datacpy_num"
      ],
      "execution_count": null,
      "outputs": [
        {
          "output_type": "execute_result",
          "data": {
            "text/html": [
              "<div>\n",
              "<style scoped>\n",
              "    .dataframe tbody tr th:only-of-type {\n",
              "        vertical-align: middle;\n",
              "    }\n",
              "\n",
              "    .dataframe tbody tr th {\n",
              "        vertical-align: top;\n",
              "    }\n",
              "\n",
              "    .dataframe thead th {\n",
              "        text-align: right;\n",
              "    }\n",
              "</style>\n",
              "<table border=\"1\" class=\"dataframe\">\n",
              "  <thead>\n",
              "    <tr style=\"text-align: right;\">\n",
              "      <th></th>\n",
              "      <th>Area</th>\n",
              "      <th>Bathroom</th>\n",
              "      <th>Per_Sqft</th>\n",
              "      <th>Parking_per_BHK</th>\n",
              "      <th>BHK_per_Area</th>\n",
              "    </tr>\n",
              "  </thead>\n",
              "  <tbody>\n",
              "    <tr>\n",
              "      <th>769</th>\n",
              "      <td>800.0</td>\n",
              "      <td>2.0</td>\n",
              "      <td>7500.0</td>\n",
              "      <td>0.500000</td>\n",
              "      <td>0.002500</td>\n",
              "    </tr>\n",
              "    <tr>\n",
              "      <th>122</th>\n",
              "      <td>270.0</td>\n",
              "      <td>1.0</td>\n",
              "      <td>5185.0</td>\n",
              "      <td>0.500000</td>\n",
              "      <td>0.007407</td>\n",
              "    </tr>\n",
              "    <tr>\n",
              "      <th>484</th>\n",
              "      <td>2100.0</td>\n",
              "      <td>4.0</td>\n",
              "      <td>14705.0</td>\n",
              "      <td>0.666667</td>\n",
              "      <td>0.001429</td>\n",
              "    </tr>\n",
              "    <tr>\n",
              "      <th>882</th>\n",
              "      <td>650.0</td>\n",
              "      <td>2.0</td>\n",
              "      <td>15882.0</td>\n",
              "      <td>0.500000</td>\n",
              "      <td>0.003077</td>\n",
              "    </tr>\n",
              "    <tr>\n",
              "      <th>212</th>\n",
              "      <td>1600.0</td>\n",
              "      <td>3.0</td>\n",
              "      <td>15459.0</td>\n",
              "      <td>0.666667</td>\n",
              "      <td>0.001875</td>\n",
              "    </tr>\n",
              "    <tr>\n",
              "      <th>...</th>\n",
              "      <td>...</td>\n",
              "      <td>...</td>\n",
              "      <td>...</td>\n",
              "      <td>...</td>\n",
              "      <td>...</td>\n",
              "    </tr>\n",
              "    <tr>\n",
              "      <th>118</th>\n",
              "      <td>900.0</td>\n",
              "      <td>2.0</td>\n",
              "      <td>4444.0</td>\n",
              "      <td>0.333333</td>\n",
              "      <td>0.003333</td>\n",
              "    </tr>\n",
              "    <tr>\n",
              "      <th>291</th>\n",
              "      <td>504.0</td>\n",
              "      <td>1.0</td>\n",
              "      <td>5357.0</td>\n",
              "      <td>0.500000</td>\n",
              "      <td>0.003968</td>\n",
              "    </tr>\n",
              "    <tr>\n",
              "      <th>141</th>\n",
              "      <td>1300.0</td>\n",
              "      <td>4.0</td>\n",
              "      <td>5255.0</td>\n",
              "      <td>0.250000</td>\n",
              "      <td>0.003077</td>\n",
              "    </tr>\n",
              "    <tr>\n",
              "      <th>573</th>\n",
              "      <td>3405.0</td>\n",
              "      <td>4.0</td>\n",
              "      <td>20999.0</td>\n",
              "      <td>0.600000</td>\n",
              "      <td>0.001468</td>\n",
              "    </tr>\n",
              "    <tr>\n",
              "      <th>29</th>\n",
              "      <td>900.0</td>\n",
              "      <td>2.0</td>\n",
              "      <td>14444.0</td>\n",
              "      <td>1.000000</td>\n",
              "      <td>0.002222</td>\n",
              "    </tr>\n",
              "  </tbody>\n",
              "</table>\n",
              "<p>804 rows × 5 columns</p>\n",
              "</div>"
            ],
            "text/plain": [
              "       Area  Bathroom  Per_Sqft  Parking_per_BHK  BHK_per_Area\n",
              "769   800.0       2.0    7500.0         0.500000      0.002500\n",
              "122   270.0       1.0    5185.0         0.500000      0.007407\n",
              "484  2100.0       4.0   14705.0         0.666667      0.001429\n",
              "882   650.0       2.0   15882.0         0.500000      0.003077\n",
              "212  1600.0       3.0   15459.0         0.666667      0.001875\n",
              "..      ...       ...       ...              ...           ...\n",
              "118   900.0       2.0    4444.0         0.333333      0.003333\n",
              "291   504.0       1.0    5357.0         0.500000      0.003968\n",
              "141  1300.0       4.0    5255.0         0.250000      0.003077\n",
              "573  3405.0       4.0   20999.0         0.600000      0.001468\n",
              "29    900.0       2.0   14444.0         1.000000      0.002222\n",
              "\n",
              "[804 rows x 5 columns]"
            ]
          },
          "metadata": {
            "tags": []
          },
          "execution_count": 435
        }
      ]
    },
    {
      "cell_type": "code",
      "metadata": {
        "colab": {
          "base_uri": "https://localhost:8080/",
          "height": 419
        },
        "id": "g16fR_D_YTu7",
        "outputId": "8226d520-5b83-4dff-9f88-32be03a1e828"
      },
      "source": [
        "datacpy_cat = datacpy[catagorical]\r\n",
        "datacpy_cat"
      ],
      "execution_count": null,
      "outputs": [
        {
          "output_type": "execute_result",
          "data": {
            "text/html": [
              "<div>\n",
              "<style scoped>\n",
              "    .dataframe tbody tr th:only-of-type {\n",
              "        vertical-align: middle;\n",
              "    }\n",
              "\n",
              "    .dataframe tbody tr th {\n",
              "        vertical-align: top;\n",
              "    }\n",
              "\n",
              "    .dataframe thead th {\n",
              "        text-align: right;\n",
              "    }\n",
              "</style>\n",
              "<table border=\"1\" class=\"dataframe\">\n",
              "  <thead>\n",
              "    <tr style=\"text-align: right;\">\n",
              "      <th></th>\n",
              "      <th>Type</th>\n",
              "      <th>Transaction</th>\n",
              "      <th>Status</th>\n",
              "      <th>Furnishing</th>\n",
              "    </tr>\n",
              "  </thead>\n",
              "  <tbody>\n",
              "    <tr>\n",
              "      <th>769</th>\n",
              "      <td>Builder_Floor</td>\n",
              "      <td>Resale</td>\n",
              "      <td>Ready_to_move</td>\n",
              "      <td>Unfurnished</td>\n",
              "    </tr>\n",
              "    <tr>\n",
              "      <th>122</th>\n",
              "      <td>Apartment</td>\n",
              "      <td>Resale</td>\n",
              "      <td>Ready_to_move</td>\n",
              "      <td>Semi-Furnished</td>\n",
              "    </tr>\n",
              "    <tr>\n",
              "      <th>484</th>\n",
              "      <td>Builder_Floor</td>\n",
              "      <td>Resale</td>\n",
              "      <td>Ready_to_move</td>\n",
              "      <td>Semi-Furnished</td>\n",
              "    </tr>\n",
              "    <tr>\n",
              "      <th>882</th>\n",
              "      <td>Apartment</td>\n",
              "      <td>Resale</td>\n",
              "      <td>Ready_to_move</td>\n",
              "      <td>Unfurnished</td>\n",
              "    </tr>\n",
              "    <tr>\n",
              "      <th>212</th>\n",
              "      <td>Apartment</td>\n",
              "      <td>Resale</td>\n",
              "      <td>Ready_to_move</td>\n",
              "      <td>Semi-Furnished</td>\n",
              "    </tr>\n",
              "    <tr>\n",
              "      <th>...</th>\n",
              "      <td>...</td>\n",
              "      <td>...</td>\n",
              "      <td>...</td>\n",
              "      <td>...</td>\n",
              "    </tr>\n",
              "    <tr>\n",
              "      <th>118</th>\n",
              "      <td>Builder_Floor</td>\n",
              "      <td>Resale</td>\n",
              "      <td>Ready_to_move</td>\n",
              "      <td>Semi-Furnished</td>\n",
              "    </tr>\n",
              "    <tr>\n",
              "      <th>291</th>\n",
              "      <td>Builder_Floor</td>\n",
              "      <td>Resale</td>\n",
              "      <td>Ready_to_move</td>\n",
              "      <td>Furnished</td>\n",
              "    </tr>\n",
              "    <tr>\n",
              "      <th>141</th>\n",
              "      <td>Builder_Floor</td>\n",
              "      <td>New_Property</td>\n",
              "      <td>Ready_to_move</td>\n",
              "      <td>Semi-Furnished</td>\n",
              "    </tr>\n",
              "    <tr>\n",
              "      <th>573</th>\n",
              "      <td>Apartment</td>\n",
              "      <td>Resale</td>\n",
              "      <td>Ready_to_move</td>\n",
              "      <td>Semi-Furnished</td>\n",
              "    </tr>\n",
              "    <tr>\n",
              "      <th>29</th>\n",
              "      <td>Builder_Floor</td>\n",
              "      <td>New_Property</td>\n",
              "      <td>Ready_to_move</td>\n",
              "      <td>Semi-Furnished</td>\n",
              "    </tr>\n",
              "  </tbody>\n",
              "</table>\n",
              "<p>804 rows × 4 columns</p>\n",
              "</div>"
            ],
            "text/plain": [
              "              Type   Transaction         Status      Furnishing\n",
              "769  Builder_Floor        Resale  Ready_to_move     Unfurnished\n",
              "122      Apartment        Resale  Ready_to_move  Semi-Furnished\n",
              "484  Builder_Floor        Resale  Ready_to_move  Semi-Furnished\n",
              "882      Apartment        Resale  Ready_to_move     Unfurnished\n",
              "212      Apartment        Resale  Ready_to_move  Semi-Furnished\n",
              "..             ...           ...            ...             ...\n",
              "118  Builder_Floor        Resale  Ready_to_move  Semi-Furnished\n",
              "291  Builder_Floor        Resale  Ready_to_move       Furnished\n",
              "141  Builder_Floor  New_Property  Ready_to_move  Semi-Furnished\n",
              "573      Apartment        Resale  Ready_to_move  Semi-Furnished\n",
              "29   Builder_Floor  New_Property  Ready_to_move  Semi-Furnished\n",
              "\n",
              "[804 rows x 4 columns]"
            ]
          },
          "metadata": {
            "tags": []
          },
          "execution_count": 436
        }
      ]
    },
    {
      "cell_type": "code",
      "metadata": {
        "colab": {
          "base_uri": "https://localhost:8080/"
        },
        "id": "bIuDlYO6Z1wD",
        "outputId": "cb6afae6-ff80-4781-cf84-2a8d2de4fa07"
      },
      "source": [
        "#from sklearn.preprocessing import OneHotEncoder #it will turn the categorical data into a specific format of 0 and 1. see the format carefully.\r\n",
        "#cat_encoder = OneHotEncoder()\r\n",
        "#non_numeric_hot = cat_encoder.fit_transform(datacpy_cat)\r\n",
        "#non_numeric_hot\r\n",
        "from sklearn.preprocessing import OrdinalEncoder\r\n",
        "ordinal_encoder = OrdinalEncoder()\r\n",
        "datacpy_cat_encoded = ordinal_encoder.fit_transform(datacpy_cat)\r\n",
        "datacpy_cat_encoded[:10]"
      ],
      "execution_count": null,
      "outputs": [
        {
          "output_type": "execute_result",
          "data": {
            "text/plain": [
              "array([[1., 1., 1., 2.],\n",
              "       [0., 1., 1., 1.],\n",
              "       [1., 1., 1., 1.],\n",
              "       [0., 1., 1., 2.],\n",
              "       [0., 1., 1., 1.],\n",
              "       [1., 0., 1., 2.],\n",
              "       [0., 1., 1., 1.],\n",
              "       [1., 1., 1., 0.],\n",
              "       [0., 1., 1., 2.],\n",
              "       [1., 0., 0., 2.]])"
            ]
          },
          "metadata": {
            "tags": []
          },
          "execution_count": 437
        }
      ]
    },
    {
      "cell_type": "code",
      "metadata": {
        "id": "RdA9DjzvfL2h"
      },
      "source": [
        "#non_numeric_hot.toarray()"
      ],
      "execution_count": null,
      "outputs": []
    },
    {
      "cell_type": "code",
      "metadata": {
        "id": "_0fUPlG7nlnh"
      },
      "source": [
        "#cat_encoder.categories_"
      ],
      "execution_count": null,
      "outputs": []
    },
    {
      "cell_type": "code",
      "metadata": {
        "colab": {
          "base_uri": "https://localhost:8080/"
        },
        "id": "8DgclTvqfTSB",
        "outputId": "df158849-3a19-4293-fa81-bb2f8462aeed"
      },
      "source": [
        "\r\n",
        "from sklearn.pipeline import Pipeline\r\n",
        "from sklearn.preprocessing import StandardScaler\r\n",
        "num_pipeline = Pipeline([('std_scaler', StandardScaler()),]) \r\n",
        "datacpy_num_tr = num_pipeline.fit_transform(datacpy_num)\r\n",
        "datacpy_num_tr\r\n"
      ],
      "execution_count": null,
      "outputs": [
        {
          "output_type": "execute_result",
          "data": {
            "text/plain": [
              "array([[-0.41724406, -0.52904201, -0.39222343, -0.09578182, -0.12015535],\n",
              "       [-0.75025342, -1.44971252, -0.51230393, -0.09578182,  0.59064838],\n",
              "       [ 0.39957137,  1.31229901, -0.01849556, -0.04094635, -0.27534431],\n",
              "       ...,\n",
              "       [-0.10308428,  1.31229901, -0.50867299, -0.17803503, -0.03659207],\n",
              "       [ 1.2195284 ,  1.31229901,  0.30797817, -0.06288054, -0.26957125],\n",
              "       [-0.3544121 , -0.52904201, -0.03203379,  0.06872459, -0.16038952]])"
            ]
          },
          "metadata": {
            "tags": []
          },
          "execution_count": 440
        }
      ]
    },
    {
      "cell_type": "code",
      "metadata": {
        "colab": {
          "base_uri": "https://localhost:8080/",
          "height": 419
        },
        "id": "qoRlNDWko-1w",
        "outputId": "ed984de5-b133-4aa0-b3f0-fc5a5b4969aa"
      },
      "source": [
        "datacpy"
      ],
      "execution_count": null,
      "outputs": [
        {
          "output_type": "execute_result",
          "data": {
            "text/html": [
              "<div>\n",
              "<style scoped>\n",
              "    .dataframe tbody tr th:only-of-type {\n",
              "        vertical-align: middle;\n",
              "    }\n",
              "\n",
              "    .dataframe tbody tr th {\n",
              "        vertical-align: top;\n",
              "    }\n",
              "\n",
              "    .dataframe thead th {\n",
              "        text-align: right;\n",
              "    }\n",
              "</style>\n",
              "<table border=\"1\" class=\"dataframe\">\n",
              "  <thead>\n",
              "    <tr style=\"text-align: right;\">\n",
              "      <th></th>\n",
              "      <th>Area</th>\n",
              "      <th>Bathroom</th>\n",
              "      <th>Furnishing</th>\n",
              "      <th>Status</th>\n",
              "      <th>Transaction</th>\n",
              "      <th>Type</th>\n",
              "      <th>Per_Sqft</th>\n",
              "      <th>Parking_per_BHK</th>\n",
              "      <th>BHK_per_Area</th>\n",
              "    </tr>\n",
              "  </thead>\n",
              "  <tbody>\n",
              "    <tr>\n",
              "      <th>769</th>\n",
              "      <td>800.0</td>\n",
              "      <td>2.0</td>\n",
              "      <td>Unfurnished</td>\n",
              "      <td>Ready_to_move</td>\n",
              "      <td>Resale</td>\n",
              "      <td>Builder_Floor</td>\n",
              "      <td>7500.0</td>\n",
              "      <td>0.500000</td>\n",
              "      <td>0.002500</td>\n",
              "    </tr>\n",
              "    <tr>\n",
              "      <th>122</th>\n",
              "      <td>270.0</td>\n",
              "      <td>1.0</td>\n",
              "      <td>Semi-Furnished</td>\n",
              "      <td>Ready_to_move</td>\n",
              "      <td>Resale</td>\n",
              "      <td>Apartment</td>\n",
              "      <td>5185.0</td>\n",
              "      <td>0.500000</td>\n",
              "      <td>0.007407</td>\n",
              "    </tr>\n",
              "    <tr>\n",
              "      <th>484</th>\n",
              "      <td>2100.0</td>\n",
              "      <td>4.0</td>\n",
              "      <td>Semi-Furnished</td>\n",
              "      <td>Ready_to_move</td>\n",
              "      <td>Resale</td>\n",
              "      <td>Builder_Floor</td>\n",
              "      <td>14705.0</td>\n",
              "      <td>0.666667</td>\n",
              "      <td>0.001429</td>\n",
              "    </tr>\n",
              "    <tr>\n",
              "      <th>882</th>\n",
              "      <td>650.0</td>\n",
              "      <td>2.0</td>\n",
              "      <td>Unfurnished</td>\n",
              "      <td>Ready_to_move</td>\n",
              "      <td>Resale</td>\n",
              "      <td>Apartment</td>\n",
              "      <td>15882.0</td>\n",
              "      <td>0.500000</td>\n",
              "      <td>0.003077</td>\n",
              "    </tr>\n",
              "    <tr>\n",
              "      <th>212</th>\n",
              "      <td>1600.0</td>\n",
              "      <td>3.0</td>\n",
              "      <td>Semi-Furnished</td>\n",
              "      <td>Ready_to_move</td>\n",
              "      <td>Resale</td>\n",
              "      <td>Apartment</td>\n",
              "      <td>15459.0</td>\n",
              "      <td>0.666667</td>\n",
              "      <td>0.001875</td>\n",
              "    </tr>\n",
              "    <tr>\n",
              "      <th>...</th>\n",
              "      <td>...</td>\n",
              "      <td>...</td>\n",
              "      <td>...</td>\n",
              "      <td>...</td>\n",
              "      <td>...</td>\n",
              "      <td>...</td>\n",
              "      <td>...</td>\n",
              "      <td>...</td>\n",
              "      <td>...</td>\n",
              "    </tr>\n",
              "    <tr>\n",
              "      <th>118</th>\n",
              "      <td>900.0</td>\n",
              "      <td>2.0</td>\n",
              "      <td>Semi-Furnished</td>\n",
              "      <td>Ready_to_move</td>\n",
              "      <td>Resale</td>\n",
              "      <td>Builder_Floor</td>\n",
              "      <td>4444.0</td>\n",
              "      <td>0.333333</td>\n",
              "      <td>0.003333</td>\n",
              "    </tr>\n",
              "    <tr>\n",
              "      <th>291</th>\n",
              "      <td>504.0</td>\n",
              "      <td>1.0</td>\n",
              "      <td>Furnished</td>\n",
              "      <td>Ready_to_move</td>\n",
              "      <td>Resale</td>\n",
              "      <td>Builder_Floor</td>\n",
              "      <td>5357.0</td>\n",
              "      <td>0.500000</td>\n",
              "      <td>0.003968</td>\n",
              "    </tr>\n",
              "    <tr>\n",
              "      <th>141</th>\n",
              "      <td>1300.0</td>\n",
              "      <td>4.0</td>\n",
              "      <td>Semi-Furnished</td>\n",
              "      <td>Ready_to_move</td>\n",
              "      <td>New_Property</td>\n",
              "      <td>Builder_Floor</td>\n",
              "      <td>5255.0</td>\n",
              "      <td>0.250000</td>\n",
              "      <td>0.003077</td>\n",
              "    </tr>\n",
              "    <tr>\n",
              "      <th>573</th>\n",
              "      <td>3405.0</td>\n",
              "      <td>4.0</td>\n",
              "      <td>Semi-Furnished</td>\n",
              "      <td>Ready_to_move</td>\n",
              "      <td>Resale</td>\n",
              "      <td>Apartment</td>\n",
              "      <td>20999.0</td>\n",
              "      <td>0.600000</td>\n",
              "      <td>0.001468</td>\n",
              "    </tr>\n",
              "    <tr>\n",
              "      <th>29</th>\n",
              "      <td>900.0</td>\n",
              "      <td>2.0</td>\n",
              "      <td>Semi-Furnished</td>\n",
              "      <td>Ready_to_move</td>\n",
              "      <td>New_Property</td>\n",
              "      <td>Builder_Floor</td>\n",
              "      <td>14444.0</td>\n",
              "      <td>1.000000</td>\n",
              "      <td>0.002222</td>\n",
              "    </tr>\n",
              "  </tbody>\n",
              "</table>\n",
              "<p>804 rows × 9 columns</p>\n",
              "</div>"
            ],
            "text/plain": [
              "       Area  Bathroom      Furnishing  ... Per_Sqft Parking_per_BHK BHK_per_Area\n",
              "769   800.0       2.0     Unfurnished  ...   7500.0        0.500000     0.002500\n",
              "122   270.0       1.0  Semi-Furnished  ...   5185.0        0.500000     0.007407\n",
              "484  2100.0       4.0  Semi-Furnished  ...  14705.0        0.666667     0.001429\n",
              "882   650.0       2.0     Unfurnished  ...  15882.0        0.500000     0.003077\n",
              "212  1600.0       3.0  Semi-Furnished  ...  15459.0        0.666667     0.001875\n",
              "..      ...       ...             ...  ...      ...             ...          ...\n",
              "118   900.0       2.0  Semi-Furnished  ...   4444.0        0.333333     0.003333\n",
              "291   504.0       1.0       Furnished  ...   5357.0        0.500000     0.003968\n",
              "141  1300.0       4.0  Semi-Furnished  ...   5255.0        0.250000     0.003077\n",
              "573  3405.0       4.0  Semi-Furnished  ...  20999.0        0.600000     0.001468\n",
              "29    900.0       2.0  Semi-Furnished  ...  14444.0        1.000000     0.002222\n",
              "\n",
              "[804 rows x 9 columns]"
            ]
          },
          "metadata": {
            "tags": []
          },
          "execution_count": 441
        }
      ]
    },
    {
      "cell_type": "code",
      "metadata": {
        "id": "4Sk737iUfpyu"
      },
      "source": [
        "from sklearn.compose import ColumnTransformer\r\n",
        "numeric = ['Area','Bathroom','Per_Sqft','Parking_per_BHK',\t'BHK_per_Area']\r\n",
        "full_pipeline = ColumnTransformer(\r\n",
        "    [\r\n",
        "     (\"num\", num_pipeline, numeric),\r\n",
        "     (\"cat\", OrdinalEncoder(),catagorical),\r\n",
        "    ]\r\n",
        ")\r\n",
        "datacpy_prepared = full_pipeline.fit_transform(datacpy)"
      ],
      "execution_count": null,
      "outputs": []
    },
    {
      "cell_type": "code",
      "metadata": {
        "colab": {
          "base_uri": "https://localhost:8080/"
        },
        "id": "7q3Na90Ck4BA",
        "outputId": "3a70fc3e-7557-404e-a9b1-2bcaedb8bdbe"
      },
      "source": [
        "datacpy_prepared"
      ],
      "execution_count": null,
      "outputs": [
        {
          "output_type": "execute_result",
          "data": {
            "text/plain": [
              "array([[-0.41724406, -0.52904201, -0.39222343, ...,  1.        ,\n",
              "         1.        ,  2.        ],\n",
              "       [-0.75025342, -1.44971252, -0.51230393, ...,  1.        ,\n",
              "         1.        ,  1.        ],\n",
              "       [ 0.39957137,  1.31229901, -0.01849556, ...,  1.        ,\n",
              "         1.        ,  1.        ],\n",
              "       ...,\n",
              "       [-0.10308428,  1.31229901, -0.50867299, ...,  0.        ,\n",
              "         1.        ,  1.        ],\n",
              "       [ 1.2195284 ,  1.31229901,  0.30797817, ...,  1.        ,\n",
              "         1.        ,  1.        ],\n",
              "       [-0.3544121 , -0.52904201, -0.03203379, ...,  0.        ,\n",
              "         1.        ,  1.        ]])"
            ]
          },
          "metadata": {
            "tags": []
          },
          "execution_count": 443
        }
      ]
    },
    {
      "cell_type": "code",
      "metadata": {
        "colab": {
          "base_uri": "https://localhost:8080/"
        },
        "id": "zqz_PihTlKrz",
        "outputId": "3070b2b0-d765-4db9-da4c-32f20595b494"
      },
      "source": [
        "from sklearn.linear_model import LinearRegression\r\n",
        "lin_reg = LinearRegression()\r\n",
        "lin_reg.fit(datacpy_prepared, datacpy_labels)"
      ],
      "execution_count": null,
      "outputs": [
        {
          "output_type": "execute_result",
          "data": {
            "text/plain": [
              "LinearRegression(copy_X=True, fit_intercept=True, n_jobs=None, normalize=False)"
            ]
          },
          "metadata": {
            "tags": []
          },
          "execution_count": 444
        }
      ]
    },
    {
      "cell_type": "code",
      "metadata": {
        "colab": {
          "base_uri": "https://localhost:8080/"
        },
        "id": "5_WulWjknxii",
        "outputId": "71c863b8-b6d4-4777-e359-440ed3ad4cc4"
      },
      "source": [
        "some_data = datacpy[:3]\r\n",
        "some_labels = datacpy_labels[:3]\r\n",
        "some_data_prepared = full_pipeline.transform(some_data)\r\n",
        "print('predictions:',lin_reg.predict(some_data_prepared))"
      ],
      "execution_count": null,
      "outputs": [
        {
          "output_type": "stream",
          "text": [
            "predictions: [ 8507996.79281525 -9805627.74705686 42483429.99704756]\n"
          ],
          "name": "stdout"
        }
      ]
    },
    {
      "cell_type": "code",
      "metadata": {
        "colab": {
          "base_uri": "https://localhost:8080/"
        },
        "id": "HEZmXPkku7bx",
        "outputId": "dca37478-7e09-43f4-c62e-e00efc7cca02"
      },
      "source": [
        "print('labels:',list(some_labels))"
      ],
      "execution_count": null,
      "outputs": [
        {
          "output_type": "stream",
          "text": [
            "labels: [6000000, 1400000, 25000000]\n"
          ],
          "name": "stdout"
        }
      ]
    },
    {
      "cell_type": "code",
      "metadata": {
        "id": "Vbnc7lqZvNr8",
        "colab": {
          "base_uri": "https://localhost:8080/"
        },
        "outputId": "b690a888-f5c4-48f9-ecdf-a630e199dfba"
      },
      "source": [
        "from sklearn.tree import DecisionTreeRegressor\r\n",
        "tree_reg = DecisionTreeRegressor()\r\n",
        "tree_reg.fit(datacpy_prepared,datacpy_labels)"
      ],
      "execution_count": null,
      "outputs": [
        {
          "output_type": "execute_result",
          "data": {
            "text/plain": [
              "DecisionTreeRegressor(ccp_alpha=0.0, criterion='mse', max_depth=None,\n",
              "                      max_features=None, max_leaf_nodes=None,\n",
              "                      min_impurity_decrease=0.0, min_impurity_split=None,\n",
              "                      min_samples_leaf=1, min_samples_split=2,\n",
              "                      min_weight_fraction_leaf=0.0, presort='deprecated',\n",
              "                      random_state=None, splitter='best')"
            ]
          },
          "metadata": {
            "tags": []
          },
          "execution_count": 447
        }
      ]
    },
    {
      "cell_type": "code",
      "metadata": {
        "colab": {
          "base_uri": "https://localhost:8080/"
        },
        "id": "k3CIc239tjpn",
        "outputId": "3844e805-ecf9-48e6-bf07-c0c1d5cd74c4"
      },
      "source": [
        "some_data = datacpy[:3]\r\n",
        "some_labels = datacpy_labels[:3]\r\n",
        "some_data_prepared = full_pipeline.transform(some_data)\r\n",
        "print('predictions:',tree_reg.predict(some_data_prepared))"
      ],
      "execution_count": null,
      "outputs": [
        {
          "output_type": "stream",
          "text": [
            "predictions: [ 6000000.  1400000. 25000000.]\n"
          ],
          "name": "stdout"
        }
      ]
    },
    {
      "cell_type": "code",
      "metadata": {
        "id": "fcC1D7gAuRvb"
      },
      "source": [
        "from sklearn.model_selection import cross_val_score\r\n",
        "scores = cross_val_score(tree_reg, datacpy_prepared, datacpy_labels, scoring = 'neg_mean_squared_error', cv=10)\r\n",
        "tree_rmse_scores = np.sqrt(-scores)"
      ],
      "execution_count": null,
      "outputs": []
    },
    {
      "cell_type": "code",
      "metadata": {
        "id": "vZ_e0cqG1Utw"
      },
      "source": [
        "def display_scores(scores):\r\n",
        "  print(\"scores:\", scores)\r\n",
        "  print('mean:',scores.mean())\r\n",
        "  print('standard deviation:', scores.std())\r\n"
      ],
      "execution_count": null,
      "outputs": []
    },
    {
      "cell_type": "code",
      "metadata": {
        "colab": {
          "base_uri": "https://localhost:8080/"
        },
        "id": "c607RpAd1y-c",
        "outputId": "c1c35590-fe28-4ea2-f9e8-185a225384a6"
      },
      "source": [
        "display_scores(tree_rmse_scores)"
      ],
      "execution_count": null,
      "outputs": [
        {
          "output_type": "stream",
          "text": [
            "scores: [14765315.50544412 11304256.21799043  9474010.51871075 20656099.5684741\n",
            " 10034764.32209546 15157871.71736191 13451480.35533636 13742581.99902769\n",
            " 19777103.71237407 14289569.92879772]\n",
            "mean: 14265305.384561261\n",
            "standard deviation: 3504665.346516223\n"
          ],
          "name": "stdout"
        }
      ]
    },
    {
      "cell_type": "code",
      "metadata": {
        "colab": {
          "base_uri": "https://localhost:8080/",
          "height": 779
        },
        "id": "XLzeoZAOEjcn",
        "outputId": "96a80a88-9a23-4262-f48e-5a63702aa109"
      },
      "source": [
        "datacpy_test = strat_test_set\r\n",
        "datacpy_test['Bathroom_per_BHK'] = datacpy_test['Bathroom']/datacpy_test['BHK']\r\n",
        "datacpy_test['Parking_per_BHK'] = datacpy_test['Parking']/datacpy_test['BHK']\r\n",
        "datacpy_test['BHK_per_Area'] = datacpy_test['BHK']/datacpy_test['Area']\r\n",
        "datacpy_test"
      ],
      "execution_count": null,
      "outputs": [
        {
          "output_type": "execute_result",
          "data": {
            "text/html": [
              "<div>\n",
              "<style scoped>\n",
              "    .dataframe tbody tr th:only-of-type {\n",
              "        vertical-align: middle;\n",
              "    }\n",
              "\n",
              "    .dataframe tbody tr th {\n",
              "        vertical-align: top;\n",
              "    }\n",
              "\n",
              "    .dataframe thead th {\n",
              "        text-align: right;\n",
              "    }\n",
              "</style>\n",
              "<table border=\"1\" class=\"dataframe\">\n",
              "  <thead>\n",
              "    <tr style=\"text-align: right;\">\n",
              "      <th></th>\n",
              "      <th>Area</th>\n",
              "      <th>BHK</th>\n",
              "      <th>Bathroom</th>\n",
              "      <th>Furnishing</th>\n",
              "      <th>Locality</th>\n",
              "      <th>Parking</th>\n",
              "      <th>Price</th>\n",
              "      <th>Status</th>\n",
              "      <th>Transaction</th>\n",
              "      <th>Type</th>\n",
              "      <th>Per_Sqft</th>\n",
              "      <th>Bathroom_per_BHK</th>\n",
              "      <th>Parking_per_BHK</th>\n",
              "      <th>BHK_per_Area</th>\n",
              "    </tr>\n",
              "  </thead>\n",
              "  <tbody>\n",
              "    <tr>\n",
              "      <th>564</th>\n",
              "      <td>1850.0</td>\n",
              "      <td>3</td>\n",
              "      <td>3.0</td>\n",
              "      <td>Unfurnished</td>\n",
              "      <td>Common Wealth Games Village, Commonwealth Game...</td>\n",
              "      <td>2.0</td>\n",
              "      <td>37500000</td>\n",
              "      <td>Ready_to_move</td>\n",
              "      <td>Resale</td>\n",
              "      <td>Apartment</td>\n",
              "      <td>20270.0</td>\n",
              "      <td>1.000000</td>\n",
              "      <td>0.666667</td>\n",
              "      <td>0.001622</td>\n",
              "    </tr>\n",
              "    <tr>\n",
              "      <th>797</th>\n",
              "      <td>750.0</td>\n",
              "      <td>3</td>\n",
              "      <td>2.0</td>\n",
              "      <td>Furnished</td>\n",
              "      <td>Sukhdev Vihar, Okhla</td>\n",
              "      <td>2.0</td>\n",
              "      <td>13500000</td>\n",
              "      <td>Ready_to_move</td>\n",
              "      <td>Resale</td>\n",
              "      <td>Apartment</td>\n",
              "      <td>16917.0</td>\n",
              "      <td>0.666667</td>\n",
              "      <td>0.666667</td>\n",
              "      <td>0.004000</td>\n",
              "    </tr>\n",
              "    <tr>\n",
              "      <th>231</th>\n",
              "      <td>3500.0</td>\n",
              "      <td>5</td>\n",
              "      <td>5.0</td>\n",
              "      <td>Semi-Furnished</td>\n",
              "      <td>Kailash Colony, Greater Kailash</td>\n",
              "      <td>1.0</td>\n",
              "      <td>70000000</td>\n",
              "      <td>Ready_to_move</td>\n",
              "      <td>New_Property</td>\n",
              "      <td>Builder_Floor</td>\n",
              "      <td>20000.0</td>\n",
              "      <td>1.000000</td>\n",
              "      <td>0.200000</td>\n",
              "      <td>0.001429</td>\n",
              "    </tr>\n",
              "    <tr>\n",
              "      <th>846</th>\n",
              "      <td>2800.0</td>\n",
              "      <td>4</td>\n",
              "      <td>4.0</td>\n",
              "      <td>Unfurnished</td>\n",
              "      <td>DLF Capital Greens, New Moti Nagar, Kirti Nagar</td>\n",
              "      <td>2.0</td>\n",
              "      <td>40000000</td>\n",
              "      <td>Ready_to_move</td>\n",
              "      <td>Resale</td>\n",
              "      <td>Apartment</td>\n",
              "      <td>14285.0</td>\n",
              "      <td>1.000000</td>\n",
              "      <td>0.500000</td>\n",
              "      <td>0.001429</td>\n",
              "    </tr>\n",
              "    <tr>\n",
              "      <th>561</th>\n",
              "      <td>2100.0</td>\n",
              "      <td>3</td>\n",
              "      <td>4.0</td>\n",
              "      <td>Furnished</td>\n",
              "      <td>Common Wealth Games Village, Commonwealth Game...</td>\n",
              "      <td>2.0</td>\n",
              "      <td>34300000</td>\n",
              "      <td>Ready_to_move</td>\n",
              "      <td>Resale</td>\n",
              "      <td>Apartment</td>\n",
              "      <td>16333.0</td>\n",
              "      <td>1.333333</td>\n",
              "      <td>0.666667</td>\n",
              "      <td>0.001429</td>\n",
              "    </tr>\n",
              "    <tr>\n",
              "      <th>...</th>\n",
              "      <td>...</td>\n",
              "      <td>...</td>\n",
              "      <td>...</td>\n",
              "      <td>...</td>\n",
              "      <td>...</td>\n",
              "      <td>...</td>\n",
              "      <td>...</td>\n",
              "      <td>...</td>\n",
              "      <td>...</td>\n",
              "      <td>...</td>\n",
              "      <td>...</td>\n",
              "      <td>...</td>\n",
              "      <td>...</td>\n",
              "      <td>...</td>\n",
              "    </tr>\n",
              "    <tr>\n",
              "      <th>412</th>\n",
              "      <td>1000.0</td>\n",
              "      <td>2</td>\n",
              "      <td>2.0</td>\n",
              "      <td>Furnished</td>\n",
              "      <td>Kishangarh, Vasant Kunj</td>\n",
              "      <td>1.0</td>\n",
              "      <td>5000000</td>\n",
              "      <td>Ready_to_move</td>\n",
              "      <td>Resale</td>\n",
              "      <td>Builder_Floor</td>\n",
              "      <td>21818.0</td>\n",
              "      <td>1.000000</td>\n",
              "      <td>0.500000</td>\n",
              "      <td>0.002000</td>\n",
              "    </tr>\n",
              "    <tr>\n",
              "      <th>490</th>\n",
              "      <td>2050.0</td>\n",
              "      <td>4</td>\n",
              "      <td>4.0</td>\n",
              "      <td>Semi-Furnished</td>\n",
              "      <td>Saket</td>\n",
              "      <td>2.0</td>\n",
              "      <td>52100000</td>\n",
              "      <td>Ready_to_move</td>\n",
              "      <td>New_Property</td>\n",
              "      <td>Apartment</td>\n",
              "      <td>17647.0</td>\n",
              "      <td>1.000000</td>\n",
              "      <td>0.500000</td>\n",
              "      <td>0.001951</td>\n",
              "    </tr>\n",
              "    <tr>\n",
              "      <th>158</th>\n",
              "      <td>2500.0</td>\n",
              "      <td>4</td>\n",
              "      <td>3.0</td>\n",
              "      <td>Semi-Furnished</td>\n",
              "      <td>J R Designers Floors, Rohini Sector 24</td>\n",
              "      <td>1.0</td>\n",
              "      <td>15000000</td>\n",
              "      <td>Ready_to_move</td>\n",
              "      <td>New_Property</td>\n",
              "      <td>Apartment</td>\n",
              "      <td>6000.0</td>\n",
              "      <td>0.750000</td>\n",
              "      <td>0.250000</td>\n",
              "      <td>0.001600</td>\n",
              "    </tr>\n",
              "    <tr>\n",
              "      <th>377</th>\n",
              "      <td>100.0</td>\n",
              "      <td>3</td>\n",
              "      <td>2.0</td>\n",
              "      <td>Semi-Furnished</td>\n",
              "      <td>Patel Nagar East, Patel Nagar</td>\n",
              "      <td>2.0</td>\n",
              "      <td>16000000</td>\n",
              "      <td>Ready_to_move</td>\n",
              "      <td>Resale</td>\n",
              "      <td>Apartment</td>\n",
              "      <td>160000.0</td>\n",
              "      <td>0.666667</td>\n",
              "      <td>0.666667</td>\n",
              "      <td>0.030000</td>\n",
              "    </tr>\n",
              "    <tr>\n",
              "      <th>386</th>\n",
              "      <td>850.0</td>\n",
              "      <td>2</td>\n",
              "      <td>3.0</td>\n",
              "      <td>Semi-Furnished</td>\n",
              "      <td>Patel Nagar West</td>\n",
              "      <td>1.0</td>\n",
              "      <td>5900000</td>\n",
              "      <td>Ready_to_move</td>\n",
              "      <td>Resale</td>\n",
              "      <td>Builder_Floor</td>\n",
              "      <td>24718.0</td>\n",
              "      <td>1.500000</td>\n",
              "      <td>0.500000</td>\n",
              "      <td>0.002353</td>\n",
              "    </tr>\n",
              "  </tbody>\n",
              "</table>\n",
              "<p>201 rows × 14 columns</p>\n",
              "</div>"
            ],
            "text/plain": [
              "       Area  BHK  Bathroom  ... Bathroom_per_BHK Parking_per_BHK  BHK_per_Area\n",
              "564  1850.0    3       3.0  ...         1.000000        0.666667      0.001622\n",
              "797   750.0    3       2.0  ...         0.666667        0.666667      0.004000\n",
              "231  3500.0    5       5.0  ...         1.000000        0.200000      0.001429\n",
              "846  2800.0    4       4.0  ...         1.000000        0.500000      0.001429\n",
              "561  2100.0    3       4.0  ...         1.333333        0.666667      0.001429\n",
              "..      ...  ...       ...  ...              ...             ...           ...\n",
              "412  1000.0    2       2.0  ...         1.000000        0.500000      0.002000\n",
              "490  2050.0    4       4.0  ...         1.000000        0.500000      0.001951\n",
              "158  2500.0    4       3.0  ...         0.750000        0.250000      0.001600\n",
              "377   100.0    3       2.0  ...         0.666667        0.666667      0.030000\n",
              "386   850.0    2       3.0  ...         1.500000        0.500000      0.002353\n",
              "\n",
              "[201 rows x 14 columns]"
            ]
          },
          "metadata": {
            "tags": []
          },
          "execution_count": 452
        }
      ]
    },
    {
      "cell_type": "code",
      "metadata": {
        "colab": {
          "base_uri": "https://localhost:8080/"
        },
        "id": "uMfLMAR5C-85",
        "outputId": "b969ca2b-660c-4f82-b0da-c3f45fdb7c23"
      },
      "source": [
        "datacpy_test = strat_test_set.drop('Price', axis=1)\r\n",
        "datacpy_test\r\n",
        "datacpy_test_labels = strat_test_set['Price'].copy()\r\n",
        "datacpy_test_labels"
      ],
      "execution_count": null,
      "outputs": [
        {
          "output_type": "execute_result",
          "data": {
            "text/plain": [
              "564    37500000\n",
              "797    13500000\n",
              "231    70000000\n",
              "846    40000000\n",
              "561    34300000\n",
              "         ...   \n",
              "412     5000000\n",
              "490    52100000\n",
              "158    15000000\n",
              "377    16000000\n",
              "386     5900000\n",
              "Name: Price, Length: 201, dtype: int64"
            ]
          },
          "metadata": {
            "tags": []
          },
          "execution_count": 453
        }
      ]
    },
    {
      "cell_type": "code",
      "metadata": {
        "colab": {
          "base_uri": "https://localhost:8080/",
          "height": 419
        },
        "id": "0osIeM_n12uq",
        "outputId": "acc4c035-a0ed-472f-9ab3-45c3460979d9"
      },
      "source": [
        "drop_columns1 = ['BHK','Locality','Parking']\r\n",
        "datacpy_test = datacpy_test.drop(drop_columns1, axis=1)\r\n",
        "datacpy_test\r\n"
      ],
      "execution_count": null,
      "outputs": [
        {
          "output_type": "execute_result",
          "data": {
            "text/html": [
              "<div>\n",
              "<style scoped>\n",
              "    .dataframe tbody tr th:only-of-type {\n",
              "        vertical-align: middle;\n",
              "    }\n",
              "\n",
              "    .dataframe tbody tr th {\n",
              "        vertical-align: top;\n",
              "    }\n",
              "\n",
              "    .dataframe thead th {\n",
              "        text-align: right;\n",
              "    }\n",
              "</style>\n",
              "<table border=\"1\" class=\"dataframe\">\n",
              "  <thead>\n",
              "    <tr style=\"text-align: right;\">\n",
              "      <th></th>\n",
              "      <th>Area</th>\n",
              "      <th>Bathroom</th>\n",
              "      <th>Furnishing</th>\n",
              "      <th>Status</th>\n",
              "      <th>Transaction</th>\n",
              "      <th>Type</th>\n",
              "      <th>Per_Sqft</th>\n",
              "      <th>Bathroom_per_BHK</th>\n",
              "      <th>Parking_per_BHK</th>\n",
              "      <th>BHK_per_Area</th>\n",
              "    </tr>\n",
              "  </thead>\n",
              "  <tbody>\n",
              "    <tr>\n",
              "      <th>564</th>\n",
              "      <td>1850.0</td>\n",
              "      <td>3.0</td>\n",
              "      <td>Unfurnished</td>\n",
              "      <td>Ready_to_move</td>\n",
              "      <td>Resale</td>\n",
              "      <td>Apartment</td>\n",
              "      <td>20270.0</td>\n",
              "      <td>1.000000</td>\n",
              "      <td>0.666667</td>\n",
              "      <td>0.001622</td>\n",
              "    </tr>\n",
              "    <tr>\n",
              "      <th>797</th>\n",
              "      <td>750.0</td>\n",
              "      <td>2.0</td>\n",
              "      <td>Furnished</td>\n",
              "      <td>Ready_to_move</td>\n",
              "      <td>Resale</td>\n",
              "      <td>Apartment</td>\n",
              "      <td>16917.0</td>\n",
              "      <td>0.666667</td>\n",
              "      <td>0.666667</td>\n",
              "      <td>0.004000</td>\n",
              "    </tr>\n",
              "    <tr>\n",
              "      <th>231</th>\n",
              "      <td>3500.0</td>\n",
              "      <td>5.0</td>\n",
              "      <td>Semi-Furnished</td>\n",
              "      <td>Ready_to_move</td>\n",
              "      <td>New_Property</td>\n",
              "      <td>Builder_Floor</td>\n",
              "      <td>20000.0</td>\n",
              "      <td>1.000000</td>\n",
              "      <td>0.200000</td>\n",
              "      <td>0.001429</td>\n",
              "    </tr>\n",
              "    <tr>\n",
              "      <th>846</th>\n",
              "      <td>2800.0</td>\n",
              "      <td>4.0</td>\n",
              "      <td>Unfurnished</td>\n",
              "      <td>Ready_to_move</td>\n",
              "      <td>Resale</td>\n",
              "      <td>Apartment</td>\n",
              "      <td>14285.0</td>\n",
              "      <td>1.000000</td>\n",
              "      <td>0.500000</td>\n",
              "      <td>0.001429</td>\n",
              "    </tr>\n",
              "    <tr>\n",
              "      <th>561</th>\n",
              "      <td>2100.0</td>\n",
              "      <td>4.0</td>\n",
              "      <td>Furnished</td>\n",
              "      <td>Ready_to_move</td>\n",
              "      <td>Resale</td>\n",
              "      <td>Apartment</td>\n",
              "      <td>16333.0</td>\n",
              "      <td>1.333333</td>\n",
              "      <td>0.666667</td>\n",
              "      <td>0.001429</td>\n",
              "    </tr>\n",
              "    <tr>\n",
              "      <th>...</th>\n",
              "      <td>...</td>\n",
              "      <td>...</td>\n",
              "      <td>...</td>\n",
              "      <td>...</td>\n",
              "      <td>...</td>\n",
              "      <td>...</td>\n",
              "      <td>...</td>\n",
              "      <td>...</td>\n",
              "      <td>...</td>\n",
              "      <td>...</td>\n",
              "    </tr>\n",
              "    <tr>\n",
              "      <th>412</th>\n",
              "      <td>1000.0</td>\n",
              "      <td>2.0</td>\n",
              "      <td>Furnished</td>\n",
              "      <td>Ready_to_move</td>\n",
              "      <td>Resale</td>\n",
              "      <td>Builder_Floor</td>\n",
              "      <td>21818.0</td>\n",
              "      <td>1.000000</td>\n",
              "      <td>0.500000</td>\n",
              "      <td>0.002000</td>\n",
              "    </tr>\n",
              "    <tr>\n",
              "      <th>490</th>\n",
              "      <td>2050.0</td>\n",
              "      <td>4.0</td>\n",
              "      <td>Semi-Furnished</td>\n",
              "      <td>Ready_to_move</td>\n",
              "      <td>New_Property</td>\n",
              "      <td>Apartment</td>\n",
              "      <td>17647.0</td>\n",
              "      <td>1.000000</td>\n",
              "      <td>0.500000</td>\n",
              "      <td>0.001951</td>\n",
              "    </tr>\n",
              "    <tr>\n",
              "      <th>158</th>\n",
              "      <td>2500.0</td>\n",
              "      <td>3.0</td>\n",
              "      <td>Semi-Furnished</td>\n",
              "      <td>Ready_to_move</td>\n",
              "      <td>New_Property</td>\n",
              "      <td>Apartment</td>\n",
              "      <td>6000.0</td>\n",
              "      <td>0.750000</td>\n",
              "      <td>0.250000</td>\n",
              "      <td>0.001600</td>\n",
              "    </tr>\n",
              "    <tr>\n",
              "      <th>377</th>\n",
              "      <td>100.0</td>\n",
              "      <td>2.0</td>\n",
              "      <td>Semi-Furnished</td>\n",
              "      <td>Ready_to_move</td>\n",
              "      <td>Resale</td>\n",
              "      <td>Apartment</td>\n",
              "      <td>160000.0</td>\n",
              "      <td>0.666667</td>\n",
              "      <td>0.666667</td>\n",
              "      <td>0.030000</td>\n",
              "    </tr>\n",
              "    <tr>\n",
              "      <th>386</th>\n",
              "      <td>850.0</td>\n",
              "      <td>3.0</td>\n",
              "      <td>Semi-Furnished</td>\n",
              "      <td>Ready_to_move</td>\n",
              "      <td>Resale</td>\n",
              "      <td>Builder_Floor</td>\n",
              "      <td>24718.0</td>\n",
              "      <td>1.500000</td>\n",
              "      <td>0.500000</td>\n",
              "      <td>0.002353</td>\n",
              "    </tr>\n",
              "  </tbody>\n",
              "</table>\n",
              "<p>201 rows × 10 columns</p>\n",
              "</div>"
            ],
            "text/plain": [
              "       Area  Bathroom  ... Parking_per_BHK BHK_per_Area\n",
              "564  1850.0       3.0  ...        0.666667     0.001622\n",
              "797   750.0       2.0  ...        0.666667     0.004000\n",
              "231  3500.0       5.0  ...        0.200000     0.001429\n",
              "846  2800.0       4.0  ...        0.500000     0.001429\n",
              "561  2100.0       4.0  ...        0.666667     0.001429\n",
              "..      ...       ...  ...             ...          ...\n",
              "412  1000.0       2.0  ...        0.500000     0.002000\n",
              "490  2050.0       4.0  ...        0.500000     0.001951\n",
              "158  2500.0       3.0  ...        0.250000     0.001600\n",
              "377   100.0       2.0  ...        0.666667     0.030000\n",
              "386   850.0       3.0  ...        0.500000     0.002353\n",
              "\n",
              "[201 rows x 10 columns]"
            ]
          },
          "metadata": {
            "tags": []
          },
          "execution_count": 454
        }
      ]
    },
    {
      "cell_type": "code",
      "metadata": {
        "colab": {
          "base_uri": "https://localhost:8080/"
        },
        "id": "LlYi-fd5Bry6",
        "outputId": "fc07200d-03ba-4901-95d3-aca2b5772160"
      },
      "source": [
        "some_data = datacpy_test[4:6]\r\n",
        "some_labels = datacpy_test_labels[4:6]\r\n",
        "some_data_prepared = full_pipeline.transform(some_data)\r\n",
        "print('predictions:',lin_reg.predict(some_data_prepared))"
      ],
      "execution_count": null,
      "outputs": [
        {
          "output_type": "stream",
          "text": [
            "predictions: [42039453.94442634 31629552.77133595]\n"
          ],
          "name": "stdout"
        },
        {
          "output_type": "stream",
          "text": [
            "/usr/local/lib/python3.6/dist-packages/sklearn/compose/_column_transformer.py:430: FutureWarning: Given feature/column names or counts do not match the ones for the data given during fit. This will fail from v0.24.\n",
            "  FutureWarning)\n"
          ],
          "name": "stderr"
        }
      ]
    },
    {
      "cell_type": "code",
      "metadata": {
        "colab": {
          "base_uri": "https://localhost:8080/"
        },
        "id": "R6R2AEm_D-i8",
        "outputId": "fe880e31-47be-4ccf-91b1-3e9a6c040b56"
      },
      "source": [
        "print('labels:',list(some_labels))"
      ],
      "execution_count": null,
      "outputs": [
        {
          "output_type": "stream",
          "text": [
            "labels: [34300000, 65000000]\n"
          ],
          "name": "stdout"
        }
      ]
    },
    {
      "cell_type": "code",
      "metadata": {
        "colab": {
          "base_uri": "https://localhost:8080/"
        },
        "id": "ncBd_VuoFiHA",
        "outputId": "7fd83db2-8b6c-40c3-8e91-0f9e08177127"
      },
      "source": [
        "from sklearn.ensemble import  RandomForestRegressor\r\n",
        "forest_reg = RandomForestRegressor()\r\n",
        "forest_reg.fit(datacpy_prepared,datacpy_labels)\r\n",
        "\r\n",
        "from sklearn.metrics import mean_squared_error\r\n",
        "price_prediction = forest_reg.predict(datacpy_prepared)\r\n",
        "lin_mse = mean_squared_error(datacpy_labels, price_prediction)\r\n",
        "lin_rsme = np.sqrt(lin_mse)\r\n",
        "lin_rsme"
      ],
      "execution_count": null,
      "outputs": [
        {
          "output_type": "execute_result",
          "data": {
            "text/plain": [
              "4176520.591614212"
            ]
          },
          "metadata": {
            "tags": []
          },
          "execution_count": 457
        }
      ]
    },
    {
      "cell_type": "code",
      "metadata": {
        "colab": {
          "base_uri": "https://localhost:8080/"
        },
        "id": "-K_cCrhJJFGZ",
        "outputId": "0699256f-71b4-4550-85ea-6d9ec28e424c"
      },
      "source": [
        "some_data = datacpy[:3]\r\n",
        "some_labels = datacpy_labels[:3]\r\n",
        "some_data_prepared = full_pipeline.transform(some_data)\r\n",
        "print('predictions:',forest_reg.predict(some_data_prepared))\r\n",
        "labels: [6000000, 1400000, 25000000]"
      ],
      "execution_count": null,
      "outputs": [
        {
          "output_type": "stream",
          "text": [
            "predictions: [ 6988000.  1726200. 27250000.]\n"
          ],
          "name": "stdout"
        }
      ]
    },
    {
      "cell_type": "code",
      "metadata": {
        "colab": {
          "base_uri": "https://localhost:8080/"
        },
        "id": "2jZJs1v-YsQX",
        "outputId": "fd4ed8fd-0012-4816-9f38-9a51cd5e6178"
      },
      "source": [
        "from sklearn.model_selection import cross_val_score\r\n",
        "scores1 = cross_val_score(tree_reg, datacpy_prepared, datacpy_labels, cv=10).mean()\r\n",
        "scores1"
      ],
      "execution_count": null,
      "outputs": [
        {
          "output_type": "execute_result",
          "data": {
            "text/plain": [
              "0.7057897992038643"
            ]
          },
          "metadata": {
            "tags": []
          },
          "execution_count": 459
        }
      ]
    },
    {
      "cell_type": "code",
      "metadata": {
        "colab": {
          "base_uri": "https://localhost:8080/"
        },
        "id": "hctuQV8oYE8V",
        "outputId": "e2c4a2a8-f363-47ac-e605-bbcf4a1e5d02"
      },
      "source": [
        "from sklearn.model_selection import cross_val_score\r\n",
        "scores = cross_val_score(forest_reg, datacpy_prepared, datacpy_labels, cv=5).mean()\r\n",
        "scores"
      ],
      "execution_count": null,
      "outputs": [
        {
          "output_type": "execute_result",
          "data": {
            "text/plain": [
              "0.7913802688137244"
            ]
          },
          "metadata": {
            "tags": []
          },
          "execution_count": 466
        }
      ]
    },
    {
      "cell_type": "code",
      "metadata": {
        "colab": {
          "base_uri": "https://localhost:8080/"
        },
        "id": "iZxdQdJ-YkW-",
        "outputId": "d355556d-9f3f-4f49-c03a-2a0167090117"
      },
      "source": [
        "from sklearn.svm import SVC\r\n",
        "sv_reg = SVC()\r\n",
        "sv_reg.fit(datacpy_prepared,datacpy_labels)\r\n",
        "some_data = datacpy[:3]\r\n",
        "some_labels = datacpy_labels[:3]\r\n",
        "some_data_prepared = full_pipeline.transform(some_data)\r\n",
        "print('predictions:',sv_reg.predict(some_data_prepared))"
      ],
      "execution_count": null,
      "outputs": [
        {
          "output_type": "stream",
          "text": [
            "predictions: [ 7000000  3000000 15000000]\n"
          ],
          "name": "stdout"
        }
      ]
    },
    {
      "cell_type": "code",
      "metadata": {
        "colab": {
          "base_uri": "https://localhost:8080/"
        },
        "id": "MeNkUHECac4K",
        "outputId": "bd0e348e-307d-42cb-bdb6-a059b814e34d"
      },
      "source": [
        "from sklearn.model_selection import cross_val_score\r\n",
        "scores2 = cross_val_score(sv_reg, datacpy_prepared, datacpy_labels, cv=5).mean()\r\n",
        "scores2"
      ],
      "execution_count": null,
      "outputs": [
        {
          "output_type": "stream",
          "text": [
            "/usr/local/lib/python3.6/dist-packages/sklearn/model_selection/_split.py:667: UserWarning: The least populated class in y has only 1 members, which is less than n_splits=5.\n",
            "  % (min_groups, self.n_splits)), UserWarning)\n"
          ],
          "name": "stderr"
        },
        {
          "output_type": "execute_result",
          "data": {
            "text/plain": [
              "0.04728260869565217"
            ]
          },
          "metadata": {
            "tags": []
          },
          "execution_count": 462
        }
      ]
    },
    {
      "cell_type": "code",
      "metadata": {
        "id": "adm49mfRazTY"
      },
      "source": [
        ""
      ],
      "execution_count": null,
      "outputs": []
    }
  ]
}